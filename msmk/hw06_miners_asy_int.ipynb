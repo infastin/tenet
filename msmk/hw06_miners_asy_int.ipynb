{
  "cells": [
    {
      "cell_type": "markdown",
      "metadata": {
        "jukit_cell_id": "VebIwJsAwg"
      },
      "source": [
        "#  \u0410\u0432\u0430\u0440\u0438\u0438 \u043d\u0430 \u0448\u0430\u0445\u0442\u0430\u0445"
      ]
    },
    {
      "cell_type": "code",
      "metadata": {
        "jukit_cell_id": "vOx9qXdzfD"
      },
      "source": [
        "import numpy as np\n",
        "\n",
        "import scipy.stats as sts\n",
        "import matplotlib.pyplot as plt\n",
        "\n",
        "plt.style.use('ggplot')  # \u0441\u0442\u0438\u043b\u044c \u0434\u043b\u044f \u0433\u0440\u0430\u0444\u0438\u043a\u043e\u0432"
      ],
      "outputs": [],
      "execution_count": null
    },
    {
      "cell_type": "markdown",
      "metadata": {
        "jukit_cell_id": "PGhYA4mDNk"
      },
      "source": [
        "\u041d\u0430 \u0443\u0433\u043e\u043b\u044c\u043d\u044b\u0445 \u0448\u0430\u0445\u0442\u0430\u0445 \u0435\u0436\u0435\u0433\u043e\u0434\u043d\u043e \u043f\u0440\u043e\u0438\u0441\u0445\u043e\u0434\u044f\u0442 \u0430\u0432\u0430\u0440\u0438\u0438. \u0410\u043d\u0433\u043b\u0438\u044f \u0434\u043e\u0432\u043e\u043b\u044c\u043d\u043e \u0434\u0430\u0432\u043d\u043e \u0441\u043e\u0431\u0438\u0440\u0430\u0435\u0442 \u0438\u043d\u0444\u043e\u0440\u043c\u0430\u0446\u0438\u044e \u043e \u0447\u0438\u0441\u043b\u0435 \u043a\u0440\u0443\u043f\u043d\u044b\u0445 \u0430\u0432\u0430\u0440\u0438\u0439.\n",
        "\u0418\u043c\u0435\u043d\u043d\u043e \u0435\u0451 \u043d\u0430\u043c \u043f\u0440\u0435\u0434\u0441\u0442\u043e\u0438\u0442 \u043f\u0440\u043e\u0430\u043d\u0430\u043b\u0438\u0437\u0438\u0440\u043e\u0432\u0430\u0442\u044c:\n",
        "\n",
        "* \u0445\u043e\u0447\u0435\u0442\u0441\u044f \u043f\u043e\u043d\u044f\u0442\u044c \u043a\u0430\u043a \u0447\u0430\u0441\u0442\u043e \u0432 \u0441\u0440\u0435\u0434\u043d\u0435\u043c \u043f\u0440\u043e\u0438\u0441\u0445\u043e\u0434\u044f\u0442 \u0430\u0432\u0430\u0440\u0438\u0438 \n",
        "* \u043d\u0430\u0441\u043a\u043e\u043b\u044c\u043a\u043e \u0431\u043e\u043b\u044c\u0448\u043e\u0439 \u0443 \u0441\u0440\u0435\u0434\u043d\u0435\u0433\u043e \u0447\u0438\u0441\u043b\u0430 \u0430\u0432\u0430\u0440\u0438\u0439 \u0434\u043e\u0432\u0435\u0440\u0438\u0442\u0435\u043b\u044c\u043d\u044b\u0439 \u0438\u043d\u0442\u0435\u0440\u0432\u0430\u043b"
      ]
    },
    {
      "cell_type": "code",
      "metadata": {
        "jukit_cell_id": "RiJ38PWRlC"
      },
      "source": [
        "!wget 'https://drive.google.com/u/0/uc?id=1P7xUx8w8ujip0JBjJWbSgXykyBg_OO8S' -O 'coals.csv'"
      ],
      "outputs": [],
      "execution_count": null
    },
    {
      "cell_type": "code",
      "metadata": {
        "jukit_cell_id": "68TGYmgI4e"
      },
      "source": [
        "import pandas as pd\n",
        "\n",
        "df = pd.read_csv(\"coals.csv\", index_col=0)\n",
        "df.head()"
      ],
      "outputs": [
        {
          "output_type": "stream",
          "name": "stdout",
          "text": "\n"
        },
        {
          "output_type": "execute_result",
          "execution_count": 1,
          "data": {
            "text/plain": "   year  count\n1  1851      4\n2  1852      5\n3  1853      4\n4  1854      1\n5  1855      0"
          },
          "metadata": {}
        }
      ],
      "execution_count": 1
    },
    {
      "cell_type": "markdown",
      "metadata": {
        "jukit_cell_id": "ZgJhot9Cxh"
      },
      "source": [
        "\u0412 \u043a\u043e\u043b\u043e\u043d\u043a\u0435 `year` \u043d\u0430\u0445\u043e\u0434\u0438\u0442\u0441\u044f \u0433\u043e\u0434 \u043d\u0430\u0431\u043b\u044e\u0434\u0435\u043d\u0438\u0439. \u0412 \u043a\u043e\u043b\u043e\u043d\u043a\u0435 `count` \u0447\u0438\u0441\u043b\u043e \u0430\u0432\u0430\u0440\u0438\u0439 \u0437\u0430 \u044d\u0442\u043e\u0442 \u0433\u043e\u0434 \u043d\u0430 \u0448\u0430\u0445\u0442\u0430\u0445 \u0432 \u0410\u043d\u0433\u043b\u0438\u0438.\n",
        "\u041f\u043e\u0441\u043c\u043e\u0442\u0440\u0438\u043c \u043d\u0430 \u0440\u0430\u0441\u043f\u0440\u0435\u0434\u0435\u043b\u0435\u043d\u0438\u0435 \u0447\u0438\u0441\u043b\u0430 \u0430\u0432\u0430\u0440\u0438\u0439. "
      ]
    },
    {
      "cell_type": "code",
      "metadata": {
        "jukit_cell_id": "RUPjNsy0Mm"
      },
      "source": [
        "df['count'].hist(bins=30);"
      ],
      "outputs": [
        {
          "output_type": "stream",
          "name": "stdout",
          "text": "\n"
        },
        {
          "data": {
            "image/png": "[encoded data removed]"
          },
          "metadata": {},
          "output_type": "display_data"
        },
        {
          "output_type": "stream",
          "name": "stdout",
          "text": "\n"
        },
        {
          "output_type": "execute_result",
          "execution_count": 2,
          "data": {
            "text/plain": "<AxesSubplot: >"
          },
          "metadata": {}
        }
      ],
      "execution_count": 2
    },
    {
      "cell_type": "markdown",
      "metadata": {
        "jukit_cell_id": "MN87ZlCNAm"
      },
      "source": [
        "\u0421\u0443\u0434\u044f \u043f\u043e \u0433\u0438\u0441\u0442\u043e\u0433\u0440\u0430\u043c\u043c\u0435 \u0443\u043c\u0435\u0441\u0442\u043d\u043e \u043f\u0440\u0435\u0434\u043f\u043e\u043b\u043e\u0436\u0438\u0442\u044c, \u0447\u0442\u043e \u0447\u0438\u0441\u043b\u043e \u0430\u0432\u0430\u0440\u0438\u0439 \u0438\u043c\u0435\u0435\u0442 \u0440\u0430\u0441\u043f\u0440\u0435\u0434\u0435\u043b\u0435\u043d\u0438\u0435 \u041f\u0443\u0430\u0441\u0441\u043e\u043d\u0430, $Poiss(\\lambda)$.\n",
        "\u0422\u043e \u0435\u0441\u0442\u044c, \u0435\u0441\u043b\u0438 \u043c\u044b \u0445\u043e\u0442\u0438\u043c \u0447\u0442\u043e-\u0442\u043e \u043f\u043e\u043d\u044f\u0442\u044c \u043f\u0440\u043e \u0441\u0440\u0435\u0434\u043d\u0435\u0435 \u0447\u0438\u0441\u043b\u043e \u0430\u0432\u0430\u0440\u0438\u0439, \u043d\u0430\u043c \u043d\u0430\u0434\u043e \u043e\u0446\u0435\u043d\u0438\u0442\u044c \u043f\u0430\u0440\u0430\u043c\u0435\u0442\u0440 $\\lambda$. \n",
        "\n",
        "__\u0430) \u041c\u0435\u0442\u043e\u0434 \u043c\u043e\u043c\u0435\u043d\u0442\u043e\u0432__\n",
        "\n",
        "\u041d\u0430\u0439\u0434\u0438\u0442\u0435 \u043e\u0446\u0435\u043d\u043a\u0443 \u043f\u0430\u0440\u0430\u043c\u0435\u0442\u0440\u0430 $\\lambda$ \u0441 \u043f\u043e\u043c\u043e\u0449\u044c\u044e \u043c\u0435\u0442\u043e\u0434\u0430 \u043c\u043e\u043c\u0435\u043d\u0442\u043e\u0432.\n",
        "\u0417\u0430\u043f\u0438\u0448\u0438\u0442\u0435 \u043f\u043e\u043b\u0443\u0447\u0438\u0432\u0448\u0438\u0439\u0441\u044f \u0440\u0435\u0437\u0443\u043b\u044c\u0442\u0430\u0442 \u0432 \u043f\u0435\u0440\u0435\u043c\u0435\u043d\u043d\u0443\u044e `lambda_hat`."
      ]
    },
    {
      "cell_type": "code",
      "metadata": {
        "jukit_cell_id": "m6pWeYJULM"
      },
      "source": [
        "n_hat = df.shape[0] # \u0447\u0438\u0441\u043b\u043e \u043d\u0430\u0431\u043b\u044e\u0434\u0435\u043d\u0438\u0439 \n",
        "lam_hat = df[\"count\"].sum() / n_hat # \u0432\u0430\u0448\u0430 \u043e\u0446\u0435\u043d\u043a\u0430 \u043c\u0435\u0442\u043e\u0434\u0430 \u043c\u043e\u043c\u0435\u043d\u0442\u043e\u0432\n",
        "lam_hat"
      ],
      "outputs": [
        {
          "output_type": "stream",
          "name": "stdout",
          "text": "\n"
        },
        {
          "output_type": "execute_result",
          "execution_count": 3,
          "data": {
            "text/plain": "1.7053571428571428"
          },
          "metadata": {}
        }
      ],
      "execution_count": 3
    },
    {
      "cell_type": "code",
      "metadata": {
        "jukit_cell_id": "CoCIBKhddl"
      },
      "source": [
        "# \u043f\u0440\u043e\u0432\u0435\u0440\u043a\u0430, \u0447\u0442\u043e \u043e\u0446\u0435\u043d\u043a\u0430 \u0431\u044b\u043b\u0430 \u043d\u0430\u0439\u0434\u0435\u043d\u0430 \u043a\u043e\u0440\u0440\u0435\u043a\u0442\u043d\u043e \n",
        "# \u043f\u043e\u0445\u043e\u0436\u0438\u0435 \u0442\u0435\u0441\u0442\u044b, \u043d\u043e \u0434\u043b\u044f lam_hat \u0441\u043a\u0440\u044b\u0442\u044b \u043e\u0442 \u0432\u0430\u0441\n",
        "# \u043e\u043d\u0438 \u0437\u0430\u043f\u0443\u0441\u0442\u044f\u0442\u0441\u044f \u043f\u043e\u0441\u043b\u0435 \u0442\u043e\u0433\u043e \u043a\u0430\u043a \u0432\u044b \u0441\u0434\u0430\u0434\u0438\u0442\u0435 \u0442\u0435\u0442\u0440\u0430\u0434\u043a\u0443 \u043d\u0430 \u043f\u0440\u043e\u0432\u0435\u0440\u043a\u0443 \u0432 \u0433\u0440\u0435\u0439\u0434\u0435\u0440\n",
        "\n",
        "assert n_hat == 112 "
      ],
      "outputs": [],
      "execution_count": null
    },
    {
      "cell_type": "markdown",
      "metadata": {
        "jukit_cell_id": "5e2pPNIk5u"
      },
      "source": [
        "__\u0431) \u0421\u0442\u0430\u043d\u0434\u0430\u0440\u0442\u043d\u043e\u0435 \u043e\u0442\u043a\u043b\u043e\u043d\u0435\u043d\u0438\u0435__ \n",
        "\n",
        "\u0421\u0440\u0435\u0434\u043d\u0435\u0435, \u043e\u0446\u0435\u043d\u0451\u043d\u043d\u043e\u0435 \u043c\u0435\u0442\u043e\u0434\u043e\u043c \u043c\u043e\u043c\u0435\u043d\u0442\u043e\u0432 \u0431\u0443\u0434\u0435\u0442 \u0438\u043c\u0435\u0442\u044c \u0430\u0441\u0438\u043c\u043f\u0442\u043e\u0442\u0438\u0447\u0435\u0441\u043a\u0438 \u043d\u043e\u0440\u043c\u0430\u043b\u044c\u043d\u043e\u0435 \u0440\u0430\u0441\u043f\u0440\u0435\u0434\u0435\u043b\u0435\u043d\u0438\u0435.\n",
        "\u041e\u0446\u0435\u043d\u0438\u0442\u0435 \u0441\u0442\u0430\u043d\u0434\u0430\u0440\u0442\u043d\u043e\u0435 \u043e\u0442\u043a\u043b\u043e\u043d\u0435\u043d\u0438\u0435 \u044d\u0442\u043e\u0433\u043e \u0440\u0430\u0441\u043f\u0440\u0435\u0434\u0435\u043b\u0435\u043d\u0438\u044f \u043f\u043e \u0432\u044b\u0431\u043e\u0440\u043a\u0435 \u0438 \u0437\u0430\u043f\u0438\u0448\u0438\u0442\u0435 \u043e\u0442\u0432\u0435\u0442 \u0432 \u043f\u0435\u0440\u0435\u043c\u0435\u043d\u043d\u0443\u044e `lam_se`. \n",
        "\n",
        "> __\u041f\u0440\u0438\u043c\u0435\u0447\u0430\u043d\u0438\u0435:__ \u043c\u044b \u043f\u0440\u0435\u0434\u043f\u043e\u043b\u0430\u0433\u0430\u0435\u043c, \u0447\u0442\u043e \u0432\u044b\u0431\u043e\u0440\u043a\u0430 \u043f\u0440\u0438\u0448\u043b\u0430 \u0438\u0437 \u0440\u0430\u0441\u043f\u0440\u0435\u0434\u0435\u043b\u0435\u043d\u0438\u044f \u041f\u0443\u0430\u0441\u0441\u043e\u043d\u0430.\n",
        "\u0414\u043b\u044f \u043d\u0435\u0433\u043e $Var(X) = \\lambda$. \u0414\u043b\u044f \u043e\u0446\u0435\u043d\u043a\u0438 \u0441\u0442\u0430\u043d\u0434\u0430\u0440\u0442\u043d\u043e\u0433\u043e \u043e\u0442\u043a\u043b\u043e\u043d\u0435\u043d\u0438\u044f \u0438\u0441\u043f\u043e\u043b\u044c\u0437\u0443\u0439\u0442\u0435 \u044d\u0442\u043e\u0442 \u0444\u0430\u043a\u0442.\n",
        "\u041a\u043e\u043d\u0435\u0447\u043d\u043e \u0436\u0435 \u0432\u044b \u043c\u043e\u0436\u0435\u0442\u0435 \u043e\u0446\u0435\u043d\u0438\u0442\u044c \u0435\u0433\u043e \u0447\u0435\u0440\u0435\u0437 \u0444\u0443\u043d\u043a\u0446\u0438\u044e `std`, \u0432 \u043f\u043b\u0430\u043d\u0435 \u0430\u0441\u0438\u043c\u043f\u0442\u043e\u0442\u0438\u043a\u0438 \u0440\u0435\u0437\u0443\u043b\u044c\u0442\u0430\u0442 \u043f\u043e\u043b\u0443\u0447\u0438\u0442\u0441\u044f \u043e\u0434\u0438\u043d\u0430\u043a\u043e\u0432\u044b\u0439.\n",
        "\u041e\u0431\u0430 \u0441\u043f\u043e\u0441\u043e\u0431\u0430 \u043a\u043e\u0440\u0440\u0435\u043a\u0442\u043d\u044b. \u041d\u043e \u0441 \u0442\u043e\u0447\u043a\u0438 \u0437\u0440\u0435\u043d\u0438\u044f \u0433\u0440\u0435\u0439\u0434\u0435\u0440\u0430, \u0443 \u0432\u0430\u0441 \u0431\u0443\u0434\u0435\u0442 \u043e\u0448\u0438\u0431\u043a\u0430. "
      ]
    },
    {
      "cell_type": "code",
      "metadata": {
        "jukit_cell_id": "nxpW7kx2K1"
      },
      "source": [
        "# \u0417\u0430\u0447\u0435\u043c \u0442\u0443\u0442 \u0434\u0435\u043b\u0438\u0442\u044c? std = sqrt(var); \u0418\u043d\u0430\u0447\u0435 \u0442\u0435\u0441\u0442\u044b \u043d\u0435 \u043f\u0440\u043e\u0445\u043e\u0434\u044f\u0442\n",
        "lam_se = np.sqrt(lam_hat / n_hat) # \u0432\u0430\u0448\u0430 \u043e\u0446\u0435\u043d\u043a\u0430\n",
        "lam_se"
      ],
      "outputs": [
        {
          "output_type": "stream",
          "name": "stdout",
          "text": "\n"
        },
        {
          "output_type": "execute_result",
          "execution_count": 4,
          "data": {
            "text/plain": "0.1233953121525469"
          },
          "metadata": {}
        }
      ],
      "execution_count": 4
    },
    {
      "cell_type": "code",
      "metadata": {
        "jukit_cell_id": "m52uhDMtjs"
      },
      "source": [
        "# \u043f\u0440\u043e\u0432\u0435\u0440\u043a\u0430, \u0447\u0442\u043e \u043e\u0446\u0435\u043d\u043a\u0430 \u0431\u044b\u043b\u0430 \u043d\u0430\u0439\u0434\u0435\u043d\u0430 \u043a\u043e\u0440\u0440\u0435\u043a\u0442\u043d\u043e \n",
        "assert lam_se < 1.6474"
      ],
      "outputs": [],
      "execution_count": null
    },
    {
      "cell_type": "markdown",
      "metadata": {
        "jukit_cell_id": "nWAZxgivtO"
      },
      "source": [
        "__\u0432) \u0414\u043e\u0432\u0435\u0440\u0438\u0442\u0435\u043b\u044c\u043d\u044b\u0439 \u0438\u043d\u0442\u0435\u0440\u0432\u0430\u043b__ \n",
        "\n",
        "\u041f\u043e\u0441\u0442\u0440\u043e\u0439\u0442\u0435 \u0434\u043b\u044f \u043d\u0435\u0438\u0437\u0432\u0435\u0441\u0442\u043d\u043e\u0433\u043e \u043c\u0430\u0442\u0435\u043c\u0430\u0442\u0438\u0447\u0435\u0441\u043a\u043e\u0433\u043e \u043e\u0436\u0438\u0434\u0430\u043d\u0438\u044f $\\lambda$ \u0434\u043e\u0432\u0435\u0440\u0438\u0442\u0435\u043b\u044c\u043d\u044b\u0439 \u0438\u043d\u0442\u0435\u0440\u0432\u0430\u043b.\n",
        "\u0412\u043e\u0437\u044c\u043c\u0438\u0442\u0435 \u0443\u0440\u043e\u0432\u0435\u043d\u044c \u0437\u043d\u0430\u0447\u0438\u043c\u043e\u0441\u0442\u0438 \u0440\u0430\u0432\u043d\u044b\u0439 $10\\%$. \u0412 \u043f\u0435\u0440\u0435\u043c\u0435\u043d\u043d\u044b\u0435 `left` \u0438 `right` \u0437\u0430\u043f\u0438\u0448\u0438\u0442\u0435 \u0441\u043e\u043e\u0442\u0432\u0435\u0441\u0442\u0432\u0443\u044e\u0449\u0438\u0435 \u0433\u0440\u0430\u043d\u0438\u0446\u044b \u0438\u043d\u0442\u0435\u0440\u0432\u0430\u043b\u0430.\n",
        "\u0412 \u043f\u0435\u0440\u0435\u043c\u0435\u043d\u043d\u0443\u044e `delta` \u0437\u0430\u043f\u0438\u0448\u0438\u0442\u0435 \u0435\u0433\u043e \u0448\u0438\u0440\u0438\u043d\u0443."
      ]
    },
    {
      "cell_type": "code",
      "metadata": {
        "jukit_cell_id": "pBxOThvMk7"
      },
      "source": [
        "alpha = 0.10\n",
        "left, right = sts.norm.interval(1 - alpha, loc=lam_hat, scale=lam_se)\n",
        "delta = right - left"
      ],
      "outputs": [],
      "execution_count": null
    },
    {
      "cell_type": "code",
      "metadata": {
        "jukit_cell_id": "FYvM1ToXV1"
      },
      "source": [
        "# \u043f\u0440\u043e\u0432\u0435\u0440\u043a\u0430, \u0447\u0442\u043e \u0433\u0440\u0430\u043d\u0438\u0446\u044b \u0434\u043e\u0432\u0435\u0440\u0438\u0442\u0435\u043b\u044c\u043d\u043e\u0433\u043e \u0438\u043d\u0442\u0435\u0440\u0432\u0430\u043b\u0430 \u043d\u0430\u0439\u0434\u0435\u043d\u044b \u0432\u0435\u0440\u043d\u043e\n",
        "assert np.abs(left - 1.502389916114217) < 1e-5"
      ],
      "outputs": [],
      "execution_count": null
    },
    {
      "cell_type": "markdown",
      "metadata": {
        "jukit_cell_id": "0mf7aFOLTN"
      },
      "source": [
        "__\u0433) \u0427\u0438\u0441\u043b\u043e \u043a\u0430\u0442\u0430\u0441\u0442\u0440\u043e\u0444__  \n",
        "\n",
        "\u041c\u043d\u043e\u0433\u0438\u0435 \u0433\u043e\u0432\u043e\u0440\u044f\u0442, \u0447\u0442\u043e \u0432 $20$ \u0432\u0435\u043a\u0435 \u043a\u0430\u0442\u0430\u0441\u0442\u0440\u043e\u0444 \u0441\u0442\u0430\u043b\u043e \u043d\u0430 \u043f\u043e\u0440\u044f\u0434\u043e\u043a \u043c\u0435\u043d\u044c\u0448\u0435. \u0414\u0430\u0432\u0430\u0439\u0442\u0435 \u043f\u0440\u043e\u0432\u0435\u0440\u0438\u043c \u044d\u0442\u043e.\n",
        "\u041f\u043e\u0441\u0442\u0440\u043e\u0439\u0442\u0435 \u043e\u0446\u0435\u043d\u043a\u0443 \u0434\u043b\u044f $\\lambda_1$ \u043f\u043e \u0434\u0430\u043d\u043d\u044b\u043c \u0434\u043e $1900$ \u0433\u043e\u0434\u0430 \u0432\u043a\u043b\u044e\u0447\u0438\u0442\u0435\u043b\u044c\u043d\u043e.\n",
        "\u041f\u043e\u0441\u0442\u0440\u043e\u0439\u0442\u0435 \u043e\u0446\u0435\u043d\u043a\u0443 \u0434\u043b\u044f $\\lambda_2$ \u043f\u043e \u0434\u0430\u043d\u043d\u044b\u043c \u043f\u043e\u0441\u043b\u0435 $1900$ \u0433\u043e\u0434\u0430.\n",
        "\u0414\u043b\u044f \u0440\u0430\u0437\u043d\u043e\u0441\u0442\u0438 $\\lambda_1 - \\lambda_2$ \u043f\u043e\u0441\u0442\u0440\u043e\u0439\u0442\u0435 $95\\%$ \u0434\u043e\u0432\u0435\u0440\u0438\u0442\u0435\u043b\u044c\u043d\u044b\u0439 \u0438\u043d\u0442\u0435\u0440\u0432\u0430\u043b. "
      ]
    },
    {
      "cell_type": "code",
      "metadata": {
        "jukit_cell_id": "veS6qskqyv"
      },
      "source": [
        "x = df[df.year <= 1900]['count']\n",
        "y = df[df.year > 1900]['count']\n",
        "\n",
        "diff_hat = x.mean() - y.mean()\n",
        "diff_se = np.sqrt(x.mean() / x.count() + y.mean() / y.count())\n",
        "\n",
        "alpha = 0.05\n",
        "left, right = sts.norm.interval(1 - alpha, loc=diff_hat, scale=diff_se)\n",
        "delta = right - left"
      ],
      "outputs": [],
      "execution_count": null
    },
    {
      "cell_type": "code",
      "metadata": {
        "jukit_cell_id": "6VAcY5NJqk"
      },
      "source": [
        "# \u043f\u0440\u043e\u0432\u0435\u0440\u043a\u0430, \u0447\u0442\u043e \u0433\u0440\u0430\u043d\u0438\u0446\u044b \u0434\u043e\u0432\u0435\u0440\u0438\u0442\u0435\u043b\u044c\u043d\u043e\u0433\u043e \u0438\u043d\u0442\u0435\u0440\u0432\u0430\u043b\u0430 \u043d\u0430\u0439\u0434\u0435\u043d\u044b \u0432\u0435\u0440\u043d\u043e\n",
        "assert x.size == 50\n",
        "assert np.abs(left - 1.2835473859716393) < 1e-5"
      ],
      "outputs": [],
      "execution_count": null
    },
    {
      "cell_type": "markdown",
      "metadata": {
        "jukit_cell_id": "oPHkLH3pSq"
      },
      "source": [
        "\u041d\u043e\u043b\u044c \u043d\u0435 \u0432\u043e\u0448\u0451\u043b \u0432 \u044d\u0442\u043e\u0442 \u0434\u043e\u0432\u0435\u0440\u0438\u0442\u0435\u043b\u044c\u043d\u044b\u0439 \u0438\u043d\u0442\u0435\u0440\u0432\u0430\u043b.\n",
        "\u042d\u0442\u043e \u043e\u0437\u043d\u0430\u0447\u0430\u0435\u0442, \u0447\u0442\u043e \u043d\u0430 \u0443\u0440\u043e\u0432\u043d\u0435 \u0437\u043d\u0430\u0447\u0438\u043c\u043e\u0441\u0442\u0438 $5\\%$ \u043c\u044b \u043c\u043e\u0436\u0435\u043c \u0441\u043a\u0430\u0437\u0430\u0442\u044c, \u0447\u0442\u043e \u0447\u0438\u0441\u043b\u043e \u0430\u0432\u0430\u0440\u0438\u0439 \u043f\u0440\u0430\u0432\u0434\u0430 \u0441\u043d\u0438\u0437\u0438\u043b\u043e\u0441\u044c. "
      ]
    },
    {
      "cell_type": "markdown",
      "metadata": {
        "jukit_cell_id": "fCX6CozZ7l"
      },
      "source": [
        "__\u0434) \u0412\u0435\u0440\u043e\u044f\u0442\u043d\u043e\u0441\u0442\u044c \u0434\u043b\u044f \u0440\u0430\u0441\u043f\u0440\u0435\u0434\u0435\u043b\u0435\u043d\u0438\u044f \u041f\u0443\u0430\u0441\u0441\u043e\u043d\u0430__ \n",
        "\n",
        "\u0412\u0441\u043f\u043e\u043c\u043d\u0438\u0442\u0435 \u0444\u043e\u0440\u043c\u0443\u043b\u0443, \u043f\u043e \u043a\u043e\u0442\u043e\u0440\u043e\u0439 \u0441\u0447\u0438\u0442\u0430\u0435\u0442\u0441\u044f \u0432\u0435\u0440\u043e\u044f\u0442\u043d\u043e\u0441\u0442\u044c \u0442\u043e\u0433\u043e, \u0447\u0442\u043e \u041f\u0443\u0430\u0441\u0441\u043e\u043d\u043e\u0432\u0441\u043a\u0430\u044f \u0441\u043b\u0443\u0447\u0430\u0439\u043d\u0430\u044f \u0432\u0435\u043b\u0438\u0447\u0438\u043d\u0430 \u043f\u0440\u0438\u043c\u0435\u0442 \u043a\u0430\u043a\u043e\u0435-\u0442\u043e \u0437\u043d\u0430\u0447\u0435\u043d\u0438\u0435.\n",
        "\u041d\u0430\u0439\u0434\u0438\u0442\u0435 \u0442\u043e\u0447\u0435\u0447\u043d\u0443\u044e \u043e\u0446\u0435\u043d\u043a\u0443 \u0432\u0435\u0440\u043e\u044f\u0442\u043d\u043e\u0441\u0442\u0438 \u0442\u043e\u0433\u043e, \u0447\u0442\u043e \u043f\u0440\u043e\u0438\u0437\u043e\u0439\u0434\u0451\u0442 \u0442\u043e\u043b\u044c\u043a\u043e \u043e\u0434\u043d\u0430 \u0430\u0432\u0430\u0440\u0438\u044f.\n",
        "\u0412 \u043a\u0430\u0447\u0435\u0441\u0442\u0432\u0435 $\\lambda$ \u0438\u0441\u043f\u043e\u043b\u044c\u0437\u0443\u0439\u0442\u0435 \u043e\u0446\u0435\u043d\u043a\u0443 \u043c\u0435\u0442\u043e\u0434\u0430 \u043c\u043e\u043c\u0435\u043d\u0442\u043e\u0432, \u043f\u043e\u043b\u0443\u0447\u0435\u043d\u043d\u0443\u044e \u0432 \u043f\u0435\u0440\u0432\u043e\u043c \u0437\u0430\u0434\u0430\u043d\u0438\u0438. "
      ]
    },
    {
      "cell_type": "code",
      "metadata": {
        "jukit_cell_id": "4XapKlQJWl"
      },
      "source": [
        "def poiss_prob(k):\n",
        "    if np.isscalar(k):\n",
        "        return ((lam_hat ** k) / np.math.factorial(k)) * np.exp(-lam_hat)\n",
        "    else:\n",
        "        result = np.empty(len(k))\n",
        "        for i in range(len(k)):\n",
        "            result[i] = poiss_prob(k[i])\n",
        "        return result"
      ],
      "outputs": [],
      "execution_count": null
    },
    {
      "cell_type": "code",
      "metadata": {
        "jukit_cell_id": "u1Xe8nAgk8"
      },
      "source": [
        "# \u043f\u0440\u043e\u0432\u0435\u0440\u043a\u0430,\u0444\u0443\u043d\u043a\u0446\u0438\u0438\n",
        "assert np.abs(poiss_prob(1) - 0.3098761) < 1e-5"
      ],
      "outputs": [],
      "execution_count": null
    },
    {
      "cell_type": "markdown",
      "metadata": {
        "jukit_cell_id": "cggIV5ffrt"
      },
      "source": [
        "__\u0435) \u0414\u0435\u043b\u044c\u0442\u0430-\u043c\u0435\u0442\u043e\u0434__ \n",
        "\n",
        "\u0422\u0430 \u0432\u0435\u0440\u043e\u044f\u0442\u043d\u043e\u0441\u0442\u044c, \u043a\u043e\u0442\u043e\u0440\u0443\u044e \u043c\u044b \u043d\u0430\u0448\u043b\u0438 \u0432 \u043f\u0440\u0435\u0434\u044b\u0434\u0443\u0449\u0435\u043c \u043f\u0443\u043d\u043a\u0442\u0435 - \u044d\u0442\u043e \u043b\u0438\u0448\u044c \u0442\u043e\u0447\u0435\u0447\u043d\u0430\u044f \u043e\u0446\u0435\u043d\u043a\u0430. \u041e\u043d\u0430 \u044f\u0432\u043b\u044f\u0435\u0442\u0441\u044f \u0444\u0443\u043d\u043a\u0446\u0438\u0435\u0439 \u043e\u0442 \u0441\u0440\u0435\u0434\u043d\u0435\u0433\u043e.\n",
        "\u0421 \u043f\u043e\u043c\u043e\u0449\u044c\u044e \u0434\u0435\u043b\u044c\u0442\u0430-\u043c\u0435\u0442\u043e\u0434\u0430 \u043f\u043e\u0441\u0442\u0440\u043e\u0439\u0442\u0435 \u0434\u043b\u044f \u044d\u0442\u043e\u0439 \u0432\u0435\u0440\u043e\u044f\u0442\u043d\u043e\u0441\u0442\u0438 $95\\%$ \u0434\u043e\u0432\u0435\u0440\u0442\u0435\u043b\u044c\u043d\u044b\u0439 \u0438\u043d\u0442\u0435\u0440\u0432\u0430\u043b."
      ]
    },
    {
      "cell_type": "code",
      "metadata": {
        "jukit_cell_id": "P9f98wq6HR"
      },
      "source": [
        "def poiss_prob_d(k):\n",
        "    if np.isscalar(k):\n",
        "        return (((lam_hat ** (k-1)) * (k - lam_hat)) / np.math.factorial(k)) * np.exp(-lam_hat)\n",
        "    else:\n",
        "        result = np.empty(len(k))\n",
        "        for i in range(len(k)):\n",
        "            result[i] = poiss_prob_d(k[i])\n",
        "        return result\n",
        "\n",
        "prob_lam_hat = poiss_prob(1)\n",
        "prob_lam_se = np.sqrt((lam_hat / n_hat) * (poiss_prob_d(1) ** 2))\n",
        "\n",
        "alpha = 0.05\n",
        "left, right = sts.norm.interval(1 - alpha, loc=prob_lam_hat, scale=prob_lam_se)\n",
        "delta = right - left"
      ],
      "outputs": [],
      "execution_count": null
    },
    {
      "cell_type": "code",
      "metadata": {
        "jukit_cell_id": "Ed3g19FTFY"
      },
      "source": [
        "# \u043f\u0440\u043e\u0432\u0435\u0440\u043a\u0430, \u0447\u0442\u043e \u0438\u043d\u0442\u0435\u0440\u0432\u0430\u043b \u043f\u043e\u0441\u0442\u0440\u043e\u0435\u043d \u043a\u043e\u0440\u0440\u0435\u043a\u0442\u043d\u043e\n",
        "assert np.abs(left - 0.279) < 1e-3"
      ],
      "outputs": [],
      "execution_count": null
    },
    {
      "cell_type": "markdown",
      "metadata": {
        "jukit_cell_id": "0qOEXgvVk3"
      },
      "source": [
        "\u041f\u043e \u0430\u043d\u0430\u043b\u043e\u0433\u0438\u0438 \u043c\u043e\u0436\u043d\u043e \u043f\u043e\u0441\u0442\u0440\u043e\u0438\u0442\u044c \u0434\u043e\u0432\u0435\u0440\u0438\u0442\u0435\u043b\u044c\u043d\u044b\u0435 \u0438\u043d\u0442\u0435\u0440\u0432\u0430\u043b\u044b \u0434\u043b\u044f \u0432\u0435\u0440\u043e\u044f\u0442\u043d\u043e\u0441\u0442\u0438 \u0442\u043e\u0433\u043e, \u0447\u0442\u043e \u0441\u043b\u0443\u0447\u0430\u0439\u043d\u0430\u044f \u0432\u0435\u043b\u0438\u0447\u0438\u043d\u0430 \u043f\u0440\u0438\u043c\u0435\u0442 \u0437\u043d\u0430\u0447\u0435\u043d\u0438\u044f \u043e\u0442 \u043d\u0443\u043b\u044f \u0434\u043e \u0434\u0435\u0432\u044f\u0442\u0438.\n",
        "\u041f\u0440\u043e\u0434\u0435\u043b\u0430\u0439\u0442\u0435 \u044d\u0442\u043e \u0432 \u043a\u0430\u0447\u0435\u0441\u0442\u0432\u0435 \u043d\u0435\u043e\u0431\u044f\u0437\u0430\u0442\u0435\u043b\u044c\u043d\u043e\u0433\u043e \u0443\u043f\u0440\u0430\u0436\u043d\u0435\u043d\u0438\u044f \u0438 \u043e\u0444\u043e\u0440\u043c\u0438\u0442\u0435 \u043f\u0440\u043e\u0446\u0435\u0434\u0443\u0440\u0443 \u0440\u0430\u0441\u0447\u0451\u0442\u0430 \u0432 \u0432\u0438\u0434\u0435 \u0444\u0443\u043d\u043a\u0446\u0438\u0438."
      ]
    },
    {
      "cell_type": "code",
      "metadata": {
        "jukit_cell_id": "IeoS9tX05D"
      },
      "source": [
        "def prob_ci(k, alpha = 0.01, lam_hat=lam_hat):\n",
        "    prob_ci_lam_hat = poiss_prob(k)\n",
        "    prob_ci_lam_se = np.sqrt((lam_hat / n_hat) * (poiss_prob_d(k) ** 2))\n",
        "    return sts.norm.interval(1 - alpha, loc=prob_ci_lam_hat, scale=prob_ci_lam_se)"
      ],
      "outputs": [],
      "execution_count": null
    },
    {
      "cell_type": "code",
      "metadata": {
        "jukit_cell_id": "aQEisjgWOh"
      },
      "source": [
        "left, right = prob_ci(1)\n",
        "delta = right - left\n",
        "\n",
        "assert np.abs(delta - 0.08147) < 1e-5\n",
        "\n",
        "left, right = prob_ci(0)\n",
        "delta = right - left\n",
        "\n",
        "assert np.abs(delta - 0.11551) < 1e-5"
      ],
      "outputs": [],
      "execution_count": null
    },
    {
      "cell_type": "markdown",
      "metadata": {
        "jukit_cell_id": "MOXZYqiiUc"
      },
      "source": [
        "\u0421\u0434\u0435\u043b\u0430\u043b\u0438 \u0444\u0443\u043d\u043a\u0446\u0438\u044e? \u0417\u0430\u043f\u0443\u0441\u043a\u0430\u0439\u0442\u0435 \u043a\u043e\u0434 \u0434\u043b\u044f \u043d\u0435 \u043e\u0447\u0435\u043d\u044c \u0438\u043d\u0444\u043e\u0440\u043c\u0430\u0442\u0438\u0432\u043d\u043e\u0439 \u043a\u0430\u0440\u0442\u0438\u043d\u043a\u0438!"
      ]
    },
    {
      "cell_type": "code",
      "metadata": {
        "jukit_cell_id": "EDOYyFOdLi"
      },
      "source": [
        "poiss_rv = sts.poisson(lam_hat)\n",
        "\n",
        "x = np.arange(10)\n",
        "\n",
        "p = poiss_rv.pmf(x)\n",
        "left, right = prob_ci(x)\n",
        "\n",
        "plt.figure(figsize=(10,5))\n",
        "plt.plot(x, p, 'bo', ms=6, label='poisson pmf')\n",
        "plt.fill_between(x, left, right, alpha=0.5)\n",
        "plt.vlines(x, 0, p, lw=1)\n",
        "plt.legend(loc='best', frameon=False)\n",
        "plt.show()"
      ],
      "outputs": [
        {
          "data": {
            "image/png": "[encoded data removed]"
          },
          "metadata": {},
          "output_type": "display_data"
        },
        {
          "output_type": "stream",
          "name": "stdout",
          "text": "\n"
        }
      ],
      "execution_count": 5
    },
    {
      "cell_type": "code",
      "metadata": {
        "jukit_cell_id": "11sclk8SCC"
      },
      "source": [
        "for k,(i,j) in enumerate(zip(left, right)):\n",
        "    print(f\"\u0412\u0435\u0440\u043e\u044f\u0442\u043d\u043e\u0441\u0442\u044c P(X={k}) \u043b\u0435\u0436\u0438\u0442 \u043c\u0435\u0436\u0434\u0443  {i:.5} \u0438 {j:.5}\")"
      ],
      "outputs": [
        {
          "output_type": "stream",
          "name": "stdout",
          "text": "\u0412\u0435\u0440\u043e\u044f\u0442\u043d\u043e\u0441\u0442\u044c P(X=0) \u043b\u0435\u0436\u0438\u0442 \u043c\u0435\u0436\u0434\u0443  0.12395 \u0438 0.23946\n\u0412\u0435\u0440\u043e\u044f\u0442\u043d\u043e\u0441\u0442\u044c P(X=1) \u043b\u0435\u0436\u0438\u0442 \u043c\u0435\u0436\u0434\u0443  0.26914 \u0438 0.35061\n\u0412\u0435\u0440\u043e\u044f\u0442\u043d\u043e\u0441\u0442\u044c P(X=2) \u043b\u0435\u0436\u0438\u0442 \u043c\u0435\u0436\u0434\u0443  0.24971 \u0438 0.27873\n\u0412\u0435\u0440\u043e\u044f\u0442\u043d\u043e\u0441\u0442\u044c P(X=3) \u043b\u0435\u0436\u0438\u0442 \u043c\u0435\u0436\u0434\u0443  0.11396 \u0438 0.18644\n\u0412\u0435\u0440\u043e\u044f\u0442\u043d\u043e\u0441\u0442\u044c P(X=4) \u043b\u0435\u0436\u0438\u0442 \u043c\u0435\u0436\u0434\u0443  0.036649 \u0438 0.091422\n\u0412\u0435\u0440\u043e\u044f\u0442\u043d\u043e\u0441\u0442\u044c P(X=5) \u043b\u0435\u0436\u0438\u0442 \u043c\u0435\u0436\u0434\u0443  0.0084293 \u0438 0.035252\n\u0412\u0435\u0440\u043e\u044f\u0442\u043d\u043e\u0441\u0442\u044c P(X=6) \u043b\u0435\u0436\u0438\u0442 \u043c\u0435\u0436\u0434\u0443  0.0012388 \u0438 0.011177\n\u0412\u0435\u0440\u043e\u044f\u0442\u043d\u043e\u0441\u0442\u044c P(X=7) \u043b\u0435\u0436\u0438\u0442 \u043c\u0435\u0436\u0434\u0443  1.9936e-05 \u0438 0.0030047\n\u0412\u0435\u0440\u043e\u044f\u0442\u043d\u043e\u0441\u0442\u044c P(X=8) \u043b\u0435\u0436\u0438\u0442 \u043c\u0435\u0436\u0434\u0443  -5.5837e-05 \u0438 0.00070061\n\u0412\u0435\u0440\u043e\u044f\u0442\u043d\u043e\u0441\u0442\u044c P(X=9) \u043b\u0435\u0436\u0438\u0442 \u043c\u0435\u0436\u0434\u0443  -2.1966e-05 \u0438 0.00014414\n"
        }
      ],
      "execution_count": 6
    },
    {
      "cell_type": "markdown",
      "metadata": {
        "jukit_cell_id": "RmYHIZptLs"
      },
      "source": [
        "\u0418\u043d\u0442\u0435\u0440\u0432\u0430\u043b\u044b \u043f\u043e\u043b\u0443\u0447\u0438\u043b\u0441\u044f \u0434\u043e\u0432\u043e\u043b\u044c\u043d\u043e \u043a\u043e\u0440\u043e\u0442\u043a\u0438\u043c\u0438. \u041f\u043e\u043f\u0440\u043e\u0431\u0443\u0439\u0442\u0435 \u043f\u043e\u0438\u0433\u0440\u0430\u0442\u044c\u0441\u044f \u0441 \u0443\u0440\u043e\u0432\u043d\u0435\u043c \u0437\u043d\u0430\u0447\u0438\u043c\u043e\u0441\u0442\u0438 \u0438 \u043f\u043e\u0441\u043c\u043e\u0442\u0440\u0435\u0442\u044c \u043a\u0430\u043a \u043e\u043d\u0438 \u043c\u0435\u043d\u044f\u044e\u0442\u0441\u044f \u0432 \u0437\u0430\u0432\u0438\u0441\u0438\u043c\u043e\u0441\u0442\u0438 \u043e\u0442 \u043d\u0435\u0433\u043e. "
      ]
    },
    {
      "cell_type": "markdown",
      "metadata": {
        "jukit_cell_id": "zVm33K1S5T"
      },
      "source": [
        "\u0412 \u044d\u0442\u043e\u0439 \u0442\u0435\u0440\u0430\u0434\u043a\u0435 \u043d\u0430\u043c \u043e\u0441\u0442\u0430\u043b\u043e\u0441\u044c \u043e\u0431\u0441\u0443\u0434\u0438\u0442\u044c \u043f\u043e\u0441\u043b\u0435\u0434\u043d\u0438\u0439 \u043d\u044e\u0430\u043d\u0441.\n",
        "\u041c\u044b \u0438\u0437 \u0442\u0435\u043e\u0440\u0438\u0438 \u0432\u0435\u0440\u043e\u044f\u0442\u043d\u043e\u0441\u0442\u0435\u0439 \u0437\u043d\u0430\u0435\u043c, \u0447\u0442\u043e \u0434\u043b\u044f \u0441\u043b\u0443\u0447\u0430\u0439\u043d\u043e\u0439 \u0432\u0435\u043b\u0438\u0447\u0438\u043d\u044b $X$, \u0438\u043c\u0435\u044e\u0449\u0435\u0439 \u0440\u0430\u0441\u043f\u0440\u0435\u0434\u0435\u043b\u0435\u043d\u0438\u0435 \u041f\u0443\u0430\u0441\u0441\u043e\u043d\u0430 $\\mathbb{E}(X) = Var(X) = \\lambda$. \n",
        "\u0414\u043b\u044f \u0442\u0435\u043a\u0443\u0449\u0435\u0439 \u0432\u044b\u0431\u043e\u0440\u043a\u0438 \u043c\u044b \u0432\u0438\u0434\u0438\u043c, \u0447\u0442\u043e \u043c\u0435\u0436\u0434\u0443 \u0434\u0438\u0441\u043f\u0435\u0440\u0441\u0438\u0435\u0439 \u0438 \u0441\u0440\u0435\u0434\u043d\u0438\u043c \u0435\u0441\u0442\u044c \u043d\u0435\u0431\u043e\u043b\u044c\u0448\u043e\u0435 \u043e\u0442\u043b\u0438\u0447\u0438\u0435. "
      ]
    },
    {
      "cell_type": "code",
      "metadata": {
        "jukit_cell_id": "1YPbDVpkQD"
      },
      "source": [
        "df['count'].mean()"
      ],
      "outputs": [
        {
          "output_type": "stream",
          "name": "stdout",
          "text": "\n"
        },
        {
          "output_type": "execute_result",
          "execution_count": 7,
          "data": {
            "text/plain": "1.7053571428571428"
          },
          "metadata": {}
        }
      ],
      "execution_count": 7
    },
    {
      "cell_type": "code",
      "metadata": {
        "jukit_cell_id": "f8JNsyOZ9K"
      },
      "source": [
        "df['count'].var()"
      ],
      "outputs": [
        {
          "output_type": "stream",
          "name": "stdout",
          "text": "\n"
        },
        {
          "output_type": "execute_result",
          "execution_count": 8,
          "data": {
            "text/plain": "2.714205276705277"
          },
          "metadata": {}
        }
      ],
      "execution_count": 8
    },
    {
      "cell_type": "markdown",
      "metadata": {
        "jukit_cell_id": "lLtemReqnQ"
      },
      "source": [
        "\u041e\u0442\u043b\u0438\u0447\u0438\u0435 \u0432 \u0434\u0432\u0430 \u0440\u0430\u0437\u0430 \u0438 \u043d\u0435\u0431\u043e\u043b\u044c\u0448\u043e\u0435 - \u0440\u0430\u0437\u043d\u044b\u0435 \u0432\u0435\u0449\u0438."
      ]
    },
    {
      "cell_type": "markdown",
      "metadata": {
        "jukit_cell_id": "dSDL3n9TPp"
      },
      "source": [
        "\u041d\u0435 \u0444\u0430\u043a\u0442, \u0447\u0442\u043e \u043c\u044b \u0438\u043c\u0435\u0435\u043c \u043f\u0440\u0430\u0432\u043e \u043f\u0440\u0435\u0434\u043f\u043e\u043b\u0430\u0433\u0430\u0442\u044c, \u0447\u0442\u043e \u043d\u0430\u0448\u0430 \u0432\u044b\u0431\u043e\u0440\u043a\u0430 \u043f\u0440\u0438\u0448\u043b\u0430 \u043a \u043d\u0430\u043c \u0438\u0437 \u0440\u0430\u0441\u043f\u0440\u0435\u0434\u0435\u043b\u0435\u043d\u0438\u044f \u041f\u0443\u0430\u0441\u0441\u043e\u043d\u0430. \u0412\u0441\u0435 \u043f\u0440\u0435\u0434\u043f\u043e\u0441\u044b\u043b\u043a\u0438 \u043e \u0440\u0430\u0441\u043f\u0440\u0435\u0434\u0435\u043b\u0435\u043d\u0438\u044f\u0445 \u0432\u044b\u0431\u043e\u0440\u043a\u0438 \u043d\u0443\u0436\u043d\u043e \u0442\u0435\u0441\u0442\u0438\u0440\u043e\u0432\u0430\u0442\u044c. \u041f\u043e\u0437\u0436\u0435 \u043c\u044b \u043d\u0430\u0443\u0447\u0438\u043c\u0441\u044f \u044d\u0442\u043e \u0434\u0435\u043b\u0430\u0442\u044c."
      ]
    }
  ],
  "metadata": {
    "anaconda-cloud": {},
    "kernelspec": {
      "display_name": "python",
      "language": "python",
      "name": "python3"
    }
  },
  "nbformat": 4,
  "nbformat_minor": 4
}