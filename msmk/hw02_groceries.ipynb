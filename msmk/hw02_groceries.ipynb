{
  "cells": [
    {
      "cell_type": "markdown",
      "metadata": {
        "jukit_cell_id": "BUrilS7V4I"
      },
      "source": [
        "#  \u0410\u043d\u0430\u043b\u0438\u0437\u0438\u0440\u0443\u0435\u043c \u0447\u0435\u043a\u0438\n",
        "\n",
        "\u0412 \u044d\u0442\u043e\u043c \u0437\u0430\u0434\u0430\u043d\u0438\u0438 \u043c\u044b \u0431\u0443\u0434\u0435\u043c \u0440\u0430\u0431\u043e\u0442\u0430\u0442\u044c \u0441 \u043f\u043e\u043a\u0443\u043f\u043a\u0430\u043c\u0438 \u0438 \u0447\u0435\u043a\u0430\u043c\u0438. \u0421\u043c\u043e\u0442\u0440\u0435\u0442\u044c \u0437\u0430 \u043a\u043e\u0440\u0440\u0435\u043b\u044f\u0446\u0438\u044f\u043c\u0438 \u0432 \u043f\u043e\u043a\u0443\u043f\u043a\u0430\u0445 \u0434\u043e\u0432\u043e\u043b\u044c\u043d\u043e \u043f\u043e\u043b\u0435\u0437\u043d\u043e.\n",
        "\n",
        "> \u0412 1992 \u0433\u043e\u0434\u0443 \u0433\u0440\u0443\u043f\u043f\u0430 \u043f\u043e \u043a\u043e\u043d\u0441\u0430\u043b\u0442\u0438\u043d\u0433\u0443 \u0432 \u043e\u0431\u043b\u0430\u0441\u0442\u0438 \u0440\u0438\u0442\u0435\u0439\u043b\u0430 \u043a\u043e\u043c\u043f\u0430\u043d\u0438\u0438 Teradata \u043f\u043e\u0434 \u0440\u0443\u043a\u043e\u0432\u043e\u0434\u0441\u0442\u0432\u043e\u043c \u0422\u043e\u043c\u0430\u0441\u0430 \u0411\u043b\u0438\u0448\u043e\u043a\u0430 \u043f\u0440\u043e\u0432\u0435\u043b\u0430 \u0438\u0441\u0441\u043b\u0435\u0434\u043e\u0432\u0430\u043d\u0438\u0435 1.2 \u043c\u0438\u043b\u043b\u0438\u043e\u043d\u0430 \u0442\u0440\u0430\u043d\u0437\u0430\u043a\u0446\u0438\u0439 \u0432 25 \u043c\u0430\u0433\u0430\u0437\u0438\u043d\u0430\u0445 \u0434\u043b\u044f \u0440\u0438\u0442\u0435\u0439\u043b\u0435\u0440\u0430 Osco Drug (Drug Store \u2014 \u0444\u043e\u0440\u043c\u0430\u0442 \u0440\u0430\u0437\u043d\u043e\u043a\u0430\u043b\u0438\u0431\u0435\u0440\u043d\u044b\u0445 \u043c\u0430\u0433\u0430\u0437\u0438\u043d\u043e\u0432 \u0443 \u0434\u043e\u043c\u0430). \u041f\u043e\u0441\u043b\u0435 \u0430\u043d\u0430\u043b\u0438\u0437\u0430 \u0432\u0441\u0435\u0445 \u044d\u0442\u0438\u0445 \u0442\u0440\u0430\u043d\u0437\u0430\u043a\u0446\u0438\u0439 \u0441\u0430\u043c\u044b\u043c \u0441\u0438\u043b\u044c\u043d\u044b\u043c \u043f\u0440\u0430\u0432\u0438\u043b\u043e\u043c \u043f\u043e\u043b\u0443\u0447\u0438\u043b\u043e\u0441\u044c \u00ab\u041c\u0435\u0436\u0434\u0443 17:00 \u0438 19:00 \u0447\u0430\u0449\u0435 \u0432\u0441\u0435\u0433\u043e \u043f\u0438\u0432\u043e \u0438 \u043f\u043e\u0434\u0433\u0443\u0437\u043d\u0438\u043a\u0438 \u043f\u043e\u043a\u0443\u043f\u0430\u044e\u0442 \u0432\u043c\u0435\u0441\u0442\u0435\u00bb. \u041a \u0441\u043e\u0436\u0430\u043b\u0435\u043d\u0438\u044e, \u0442\u0430\u043a\u043e\u0435 \u043f\u0440\u0430\u0432\u0438\u043b\u043e \u043f\u043e\u043a\u0430\u0437\u0430\u043b\u043e\u0441\u044c \u0440\u0443\u043a\u043e\u0432\u043e\u0434\u0441\u0442\u0432\u0443 Osco Drug \u043d\u0430\u0441\u0442\u043e\u043b\u044c\u043a\u043e \u043a\u043e\u043d\u0442\u0440\u0438\u043d\u0442\u0443\u0438\u0442\u0438\u0432\u043d\u044b\u043c, \u0447\u0442\u043e \u0441\u0442\u0430\u0432\u0438\u0442\u044c \u043f\u043e\u0434\u0433\u0443\u0437\u043d\u0438\u043a\u0438 \u043d\u0430 \u043f\u043e\u043b\u043a\u0430\u0445 \u0440\u044f\u0434\u043e\u043c \u0441 \u043f\u0438\u0432\u043e\u043c \u043e\u043d\u0438 \u043d\u0435 \u0441\u0442\u0430\u043b\u0438. \u0425\u043e\u0442\u044f \u043e\u0431\u044a\u044f\u0441\u043d\u0435\u043d\u0438\u0435 \u043f\u0430\u0440\u0435 \u043f\u0438\u0432\u043e-\u043f\u043e\u0434\u0433\u0443\u0437\u043d\u0438\u043a\u0438 \u0432\u043f\u043e\u043b\u043d\u0435 \u0441\u0435\u0431\u0435 \u043d\u0430\u0448\u043b\u043e\u0441\u044c: \u043a\u043e\u0433\u0434\u0430 \u043e\u0431\u0430 \u0447\u043b\u0435\u043d\u0430 \u043c\u043e\u043b\u043e\u0434\u043e\u0439 \u0441\u0435\u043c\u044c\u0438 \u0432\u043e\u0437\u0432\u0440\u0430\u0449\u0430\u043b\u0438\u0441\u044c \u0441 \u0440\u0430\u0431\u043e\u0442\u044b \u0434\u043e\u043c\u043e\u0439 (\u043a\u0430\u043a \u0440\u0430\u0437 \u0447\u0430\u0441\u0430\u043c \u043a 5 \u0432\u0435\u0447\u0435\u0440\u0430), \u0436\u0435\u043d\u044b \u043e\u0431\u044b\u0447\u043d\u043e \u043e\u0442\u043f\u0440\u0430\u0432\u043b\u044f\u043b\u0438 \u043c\u0443\u0436\u0435\u0439 \u0437\u0430 \u043f\u043e\u0434\u0433\u0443\u0437\u043d\u0438\u043a\u0430\u043c\u0438 \u0432 \u0431\u043b\u0438\u0436\u0430\u0439\u0448\u0438\u0439 \u043c\u0430\u0433\u0430\u0437\u0438\u043d. \u0418 \u043c\u0443\u0436\u044c\u044f, \u043d\u0435 \u0434\u043e\u043b\u0433\u043e \u0434\u0443\u043c\u0430\u044f, \u0441\u043e\u0432\u043c\u0435\u0449\u0430\u043b\u0438 \u043f\u0440\u0438\u044f\u0442\u043d\u043e\u0435 \u0441 \u043f\u043e\u043b\u0435\u0437\u043d\u044b\u043c \u2014 \u043f\u043e\u043a\u0443\u043f\u0430\u043b\u0438 \u043f\u043e\u0434\u0433\u0443\u0437\u043d\u0438\u043a\u0438 \u043f\u043e \u0437\u0430\u0434\u0430\u043d\u0438\u044e \u0436\u0435\u043d\u044b \u0438 \u043f\u0438\u0432\u043e \u0434\u043b\u044f \u0441\u043e\u0431\u0441\u0442\u0432\u0435\u043d\u043d\u043e\u0433\u043e \u0432\u0435\u0447\u0435\u0440\u043d\u0435\u0433\u043e \u0432\u0440\u0435\u043c\u044f\u043f\u0440\u0435\u043f\u0440\u043e\u0432\u043e\u0436\u0434\u0435\u043d\u0438\u044f.\n",
        "\n",
        "\u0414\u043b\u044f \u0440\u0430\u0431\u043e\u0442\u044b \u0431\u0443\u0434\u0435\u043c \u0438\u0441\u043f\u043e\u043b\u044c\u0437\u043e\u0432\u0430\u0442\u044c \u0434\u0430\u0442\u0430\u0441\u0435\u0442 \u043e \u043f\u0440\u043e\u0434\u0443\u043a\u0442\u043e\u0432\u044b\u0445 \u043a\u043e\u0440\u0437\u0438\u043d\u0430\u0445: https://www.kaggle.com/heeraldedhia/groceries-dataset"
      ]
    },
    {
      "cell_type": "code",
      "metadata": {
        "jukit_cell_id": "7kIdt3q70Y"
      },
      "source": [
        "import numpy as np\n",
        "import pandas as pd\n",
        "\n",
        "import scipy.stats as sts\n",
        "import matplotlib.pyplot as plt\n",
        "import seaborn as sns\n",
        "\n",
        "plt.style.use('ggplot')  # \u0441\u0442\u0438\u043b\u044c \u0434\u043b\u044f \u0433\u0440\u0430\u0444\u0438\u043a\u043e\u0432"
      ],
      "outputs": [],
      "execution_count": null
    },
    {
      "cell_type": "code",
      "metadata": {
        "jukit_cell_id": "sgmk9mNX5Q"
      },
      "source": [
        "!wget 'https://drive.google.com/u/0/uc?id=1SnaNzCXqNsNGtLTxLMw_MrureQN5NAy3' -O 'groceries.csv'"
      ],
      "outputs": [],
      "execution_count": null
    },
    {
      "cell_type": "markdown",
      "metadata": {
        "jukit_cell_id": "KGUu2ULwYt"
      },
      "source": [
        "\u041f\u043e\u0434\u0440\u0443\u0436\u0430\u0435\u043c \u0434\u0430\u043d\u043d\u044b\u0435 \u0438 \u0441\u043c\u043e\u0442\u0440\u0438\u043c \u043a\u0430\u043a \u043e\u043d\u0438 \u0432\u044b\u0433\u043b\u044f\u0434\u044f\u0442."
      ]
    },
    {
      "cell_type": "code",
      "metadata": {
        "jukit_cell_id": "oKIreR1kLt"
      },
      "source": [
        "df = pd.read_csv('groceries.csv', sep=',')\n",
        "df.columns = ['id', 'fielddate', 'product']\n",
        "print(df.shape)\n",
        "df.head()"
      ],
      "outputs": [
        {
          "output_type": "stream",
          "name": "stdout",
          "text": "(38765, 3)\n"
        },
        {
          "output_type": "execute_result",
          "execution_count": 1,
          "data": {
            "text/plain": "     id   fielddate           product\n0  1808  21-07-2015    tropical fruit\n1  2552  05-01-2015        whole milk\n2  2300  19-09-2015         pip fruit\n3  1187  12-12-2015  other vegetables\n4  3037  01-02-2015        whole milk"
          },
          "metadata": {}
        }
      ],
      "execution_count": 1
    },
    {
      "cell_type": "markdown",
      "metadata": {
        "jukit_cell_id": "4IY5EtACsw"
      },
      "source": [
        "## 1. \u041a\u043e\u0440\u0440\u0435\u043b\u044f\u0446\u0438\u0438\n",
        "\n",
        "\u0414\u043b\u044f \u043d\u0430\u0447\u0430\u043b\u0430 \u043f\u043e\u0440\u0430\u0431\u043e\u0442\u0430\u0435\u043c \u0441 \u043a\u043e\u0440\u0440\u0435\u043b\u044f\u0446\u0438\u044f\u043c\u0438 \u0432 \u0434\u0430\u043d\u043d\u044b\u0445. \n",
        "\n",
        "__\u0430)__ \u041a\u0430\u043a\u043e\u0439 \u0442\u043e\u0432\u0430\u0440 \u043f\u043e\u043a\u0443\u043f\u0430\u043b\u0441\u044f \u0447\u0430\u0449\u0435 \u0432\u0441\u0435\u0433\u043e? \u0421\u043e\u0445\u0440\u0430\u043d\u0438\u0442\u0435 \u043d\u0430\u0437\u0432\u0430\u043d\u0438\u0435 \u044d\u0442\u043e\u0433\u043e \u0442\u043e\u0432\u0430\u0440\u0430 \u0432 \u043f\u0435\u0440\u0435\u043c\u0435\u043d\u043d\u0443\u044e `product_name`."
      ]
    },
    {
      "cell_type": "code",
      "metadata": {
        "jukit_cell_id": "xy1TFfuEn9"
      },
      "source": [
        "### \u2570( \u0361\u00b0 \u035c\u0296 \u0361\u00b0 )\u3064\u25ac\u25ac\u03b9\u2550\u2550\u2550\u2550\u2550\u2550\u2550  bzzzzzzzzzz\n",
        "# will the code be with you\n",
        "\n",
        "product_name = df['product'].value_counts().head(1).index[0]"
      ],
      "outputs": [],
      "execution_count": null
    },
    {
      "cell_type": "code",
      "metadata": {
        "jukit_cell_id": "HspQU2vSxZ"
      },
      "source": [
        "# \u043f\u0440\u043e\u0432\u0435\u0440\u043a\u0430, \u0447\u0442\u043e \u0437\u0430\u0434\u0430\u043d\u0438\u0435 \u0440\u0435\u0448\u0435\u043d\u043e \u043a\u043e\u0440\u0440\u0435\u043a\u0442\u043d\u043e\n",
        "assert len(product_name) == 10"
      ],
      "outputs": [],
      "execution_count": null
    },
    {
      "cell_type": "markdown",
      "metadata": {
        "jukit_cell_id": "8DaX6dWfAk"
      },
      "source": [
        "__\u0431)__ \u0421\u043a\u043e\u043b\u044c\u043a\u043e \u0432\u0441\u0435\u0433\u043e \u0443\u043d\u0438\u043a\u0430\u043b\u044c\u043d\u044b\u0445 \u0437\u0430\u043a\u0430\u0437\u043e\u0432 \u0431\u044b\u043b\u043e \u0441\u0434\u0435\u043b\u0430\u043d\u043e? \u0421\u043e\u0445\u0440\u0430\u043d\u0438\u0442\u0435 \u0447\u0438\u0441\u043b\u043e \u0437\u0430\u043a\u0430\u0437\u043e\u0432 \u0432 \u043f\u0435\u0440\u0435\u043c\u0435\u043d\u043d\u0443\u044e `n_cnt`."
      ]
    },
    {
      "cell_type": "code",
      "metadata": {
        "jukit_cell_id": "xIQDBna8Sc"
      },
      "source": [
        "### \u2570( \u0361\u00b0 \u035c\u0296 \u0361\u00b0 )\u3064\u25ac\u25ac\u03b9\u2550\u2550\u2550\u2550\u2550\u2550\u2550  bzzzzzzzzzz\n",
        "# will the code be with you\n",
        "\n",
        "n_cnt = df['id'].nunique()"
      ],
      "outputs": [],
      "execution_count": null
    },
    {
      "cell_type": "code",
      "metadata": {
        "jukit_cell_id": "KOLDSRhh3z"
      },
      "source": [
        "# \u043f\u0440\u043e\u0432\u0435\u0440\u043a\u0430, \u0447\u0442\u043e \u0437\u0430\u0434\u0430\u043d\u0438\u0435 \u0440\u0435\u0448\u0435\u043d\u043e \u043a\u043e\u0440\u0440\u0435\u043a\u0442\u043d\u043e\n",
        "assert n_cnt > 3800\n",
        "assert n_cnt < 4000"
      ],
      "outputs": [],
      "execution_count": null
    },
    {
      "cell_type": "markdown",
      "metadata": {
        "jukit_cell_id": "exIg95Ny3S"
      },
      "source": [
        "\u0412 \u0442\u0430\u0431\u043b\u0438\u0446\u0435 \u0432\u044b\u0448\u0435 \u0432 \u043a\u0430\u0436\u0434\u043e\u0439 \u0441\u0442\u0440\u043e\u043a\u0435 \u0437\u0430\u043f\u0438\u0441\u0430\u043d\u0430 \u0438\u043d\u0444\u043e\u0440\u043c\u0430\u0446\u0438\u044f \u043e \u043f\u043e\u043a\u0443\u043f\u043a\u0435 \u043a\u043e\u043d\u043a\u0440\u0435\u0442\u043d\u043e\u0433\u043e \u0442\u043e\u0432\u0430\u0440\u0430. \u0414\u0430\u0432\u0430\u0439\u0442\u0435 \u0441\u0434\u0435\u043b\u0430\u0435\u043c \u0442\u0430\u0431\u043b\u0438\u0447\u043a\u0443 \u0440\u0430\u0437\u043c\u0435\u0440\u0430 \"\u0447\u0438\u0441\u043b\u043e \u0442\u043e\u0432\u0430\u0440\u043e\u0432\" \u043d\u0430 \"\u0447\u0438\u0441\u043b\u043e \u043f\u043e\u043a\u0443\u043f\u043e\u043a\", \u0447\u0442\u043e\u0431\u044b \u043f\u043e\u043d\u0438\u043c\u0430\u0442\u044c \u043a\u0430\u043a\u0438\u0435 \u0442\u043e\u0432\u0430\u0440\u044b \u043f\u043e\u043a\u0443\u043f\u0430\u043b\u0438\u0441\u044c \u0432\u043c\u0435\u0441\u0442\u0435, \u0430 \u043a\u0430\u043a\u0438\u0435 \u043d\u0435\u0442. \n",
        "\n",
        "> \u041e\u0431\u0440\u0430\u0442\u0438\u0442\u0435 \u0432\u043d\u0438\u043c\u0430\u043d\u0438\u0435, \u0442\u043e \u0437\u0434\u0435\u0441\u044c \u0437\u0430\u0434\u0430\u043d\u0438\u0435 \u043d\u0435\u043c\u043d\u043e\u0433\u043e \u0443\u043f\u0440\u043e\u0449\u0435\u043d\u043e. \u0412\u043e\u043e\u0431\u0449\u0435 \u0433\u043e\u0432\u043e\u0440\u044f, \u043d\u0430\u043c \u043d\u0443\u0436\u043d\u043e \u0434\u0435\u043b\u0430\u0442\u044c \u0430\u0433\u0440\u0435\u0433\u0430\u0446\u0438\u044e \u043f\u043e \u043f\u0430\u0440\u0435 `fielddate, id`, \u0435\u0441\u043b\u0438 \u043c\u044b \u0445\u043e\u0442\u0438\u043c \u0438\u0437\u0443\u0447\u0430\u0442\u044c \u0447\u0435\u043a\u0438 \u043f\u043e-\u0447\u0435\u0441\u0442\u043d\u043e\u043c\u0443. \u041d\u043e \u043c\u044b \u0434\u0435\u043b\u0430\u0435\u043c \u0435\u0451 \u0442\u043e\u043b\u044c\u043a\u043e \u043f\u043e `id` \u0434\u043b\u044f \u0442\u043e\u0433\u043e, \u0447\u0442\u043e\u0431\u044b \u043d\u0435 \u0443\u0441\u043b\u043e\u0436\u043d\u044f\u0442\u044c \u0437\u0430\u0434\u0430\u043d\u0438\u0435. \u0412 \u043a\u0430\u0447\u0435\u0441\u0442\u0432\u0435 \u043d\u0435\u043e\u0431\u044f\u0437\u0430\u0442\u0435\u043b\u044c\u043d\u043e\u0433\u043e \u0434\u043e\u043f\u043e\u043b\u043d\u0435\u043d\u0438\u044f \u0432\u044b \u043c\u043e\u0436\u0435\u0442\u0435 \u043f\u043e\u0441\u043b\u0435 \u0441\u0434\u0430\u0447\u0438 \u0437\u0430\u0434\u0430\u043d\u0438\u044f \u043f\u0435\u0440\u0435\u0434\u0435\u043b\u0430\u0442\u044c \u043a\u043e\u0434 \u0442\u0430\u043a, \u0447\u0442\u043e\u0431\u044b \u0434\u0430\u0442\u0430 \u0442\u043e\u0436\u0435 \u0443\u0447\u0438\u0442\u044b\u0432\u0430\u043b\u0430\u0441\u044c \u043f\u0440\u0438 \u0440\u0430\u0441\u0447\u0451\u0442\u0430\u0445. "
      ]
    },
    {
      "cell_type": "code",
      "metadata": {
        "jukit_cell_id": "JV5u1Zc3qZ"
      },
      "source": [
        "sparse_sales = pd.pivot_table(df, \n",
        "               values='fielddate', \n",
        "               index='id', \n",
        "               columns='product', \n",
        "               fill_value=0, aggfunc='count')\n",
        "\n",
        "sparse_sales.head()"
      ],
      "outputs": [
        {
          "output_type": "stream",
          "name": "stdout",
          "text": "\n"
        },
        {
          "output_type": "execute_result",
          "execution_count": 2,
          "data": {
            "text/plain": "product  Instant food products  UHT-milk  abrasive cleaner  ...  whole milk  yogurt  zwieback\nid                                                          ...                              \n1000                         0         0                 0  ...           2       1         0\n1001                         0         0                 0  ...           2       0         0\n1002                         0         0                 0  ...           1       0         0\n1003                         0         0                 0  ...           0       0         0\n1004                         0         0                 0  ...           3       0         0\n\n[5 rows x 167 columns]"
          },
          "metadata": {}
        }
      ],
      "execution_count": 2
    },
    {
      "cell_type": "markdown",
      "metadata": {
        "jukit_cell_id": "SYc0WGO968"
      },
      "source": [
        "\u0412 \u043d\u0430\u0448\u0435\u0439 \u043c\u0430\u0442\u0440\u0438\u0446\u0435 \u043e\u0433\u0440\u043e\u043c\u043d\u043e\u0435 \u0447\u0438\u0441\u043b\u043e \u043d\u0443\u043b\u0435\u0439. \u041e\u0431\u044b\u0447\u043d\u043e \u0442\u0430\u043a\u0438\u0435 \u043c\u0430\u0442\u0440\u0438\u0446\u044b \u043d\u0430\u0437\u044b\u0432\u0430\u044e\u0442 \u0440\u0430\u0437\u0440\u044f\u0436\u0435\u043d\u044b\u043c\u0438. \u041c\u044b \u0437\u0430\u043d\u0438\u043c\u0430\u0435\u043c \u043d\u0443\u043b\u044f\u043c\u0438 \u043a\u0443\u0447\u0443 \u0441\u0432\u043e\u0431\u043e\u0434\u043d\u043e\u0439 \u043f\u0430\u043c\u044f\u0442\u0438, \u043a\u043e\u0442\u043e\u0440\u0443\u044e \u043c\u044b \u043c\u043e\u0433\u043b\u0438 \u0431\u044b \u043d\u0435 \u0437\u0430\u043d\u0438\u043c\u0430\u0442\u044c, \u0435\u0441\u043b\u0438 \u0431\u044b \u0445\u0440\u0430\u043d\u0438\u043b\u0438 \u0434\u0430\u043d\u043d\u044b\u0435 [\u0432 \u0438\u043d\u043e\u043c \u0432\u0438\u0434\u0435.](https://cmdlinetips.com/2018/03/sparse-matrices-in-python-with-scipy/)"
      ]
    },
    {
      "cell_type": "markdown",
      "metadata": {
        "jukit_cell_id": "uIEr5GV3os"
      },
      "source": [
        "__\u0432)__ \u041f\u043e\u0441\u0442\u0440\u043e\u0439\u0442\u0435 \u043c\u0430\u0442\u0440\u0438\u0446\u0443 \u043a\u043e\u0440\u0440\u0435\u043b\u044f\u0446\u0438\u0439 \u041f\u0438\u0440\u0441\u043e\u043d\u0430. \u0414\u043b\u044f \u044d\u0442\u043e\u0433\u043e \u0438\u0441\u043f\u043e\u043b\u044c\u0437\u0443\u0439\u0442\u0435 \u043c\u0435\u0442\u043e\u0434 \u0442\u0430\u0431\u043b\u0438\u0446\u044b `.corr`."
      ]
    },
    {
      "cell_type": "code",
      "metadata": {
        "jukit_cell_id": "c2f22NFb9I"
      },
      "source": [
        "### \u2570( \u0361\u00b0 \u035c\u0296 \u0361\u00b0 )\u3064\u25ac\u25ac\u03b9\u2550\u2550\u2550\u2550\u2550\u2550\u2550  bzzzzzzzzzz\n",
        "# will the code be with you\n",
        "\n",
        "sales_correlation = sparse_sales.corr()"
      ],
      "outputs": [],
      "execution_count": null
    },
    {
      "cell_type": "markdown",
      "metadata": {
        "jukit_cell_id": "9cDlzfkmNf"
      },
      "source": [
        "\u041a\u0430\u043a\u0438\u0435 \u043f\u0440\u043e\u0434\u0443\u043a\u0442\u044b \u0441\u0438\u043b\u044c\u043d\u0435\u0435 \u0432\u0441\u0435\u0433\u043e \u043a\u043e\u0440\u0440\u0435\u043b\u0438\u0440\u0443\u044e\u0442 \u0441 \u044f\u0439\u0446\u0430\u043c\u0438, `domestic eggs` (\u0438\u0445 \u0447\u0430\u0449\u0435 \u0432\u0441\u0435\u0433\u043e \u043f\u043e\u043a\u0443\u043f\u0430\u044e\u0442 \u0432\u043c\u0435\u0441\u0442\u0435)?  \u0421\u043e\u0445\u0440\u0430\u043d\u0438\u0442\u0435 \u043d\u0430\u0437\u0432\u0430\u043d\u0438\u0435 \u0441\u0430\u043c\u043e\u0433\u043e \u0441\u043a\u043e\u0440\u0440\u0435\u043b\u0438\u0440\u043e\u0432\u0430\u043d\u043d\u043e\u0433\u043e \u043f\u0440\u043e\u0434\u0443\u043a\u0442\u0430 \u0432 \u043f\u0435\u0440\u0435\u043c\u0435\u043d\u043d\u0443\u044e `top_1`."
      ]
    },
    {
      "cell_type": "code",
      "metadata": {
        "jukit_cell_id": "SBY0TQuppY"
      },
      "source": [
        "### \u2570( \u0361\u00b0 \u035c\u0296 \u0361\u00b0 )\u3064\u25ac\u25ac\u03b9\u2550\u2550\u2550\u2550\u2550\u2550\u2550  bzzzzzzzzzz\n",
        "# will the code be with you\n",
        "\n",
        "top_1 = sales_correlation['domestic eggs'].nlargest(2).index[1]"
      ],
      "outputs": [],
      "execution_count": null
    },
    {
      "cell_type": "markdown",
      "metadata": {
        "jukit_cell_id": "t6Ge6OQhAY"
      },
      "source": [
        "\u041a\u0430\u043a\u0438\u0435 \u043f\u0440\u043e\u0434\u0443\u043a\u0442\u044b \"\u043c\u0435\u0448\u0430\u044e\u0442\" \u043a\u0443\u043f\u0438\u0442\u044c \u044f\u0439\u0446\u0430, \u0442\u043e \u0435\u0441\u0442\u044c \u043e\u0442\u0440\u0438\u0446\u0430\u0442\u0435\u043b\u044c\u043d\u043e \u043a\u043e\u0440\u0440\u0435\u043b\u0438\u0440\u0443\u044e\u0442 \u0441 \u0438\u0445 \u043f\u043e\u043a\u0443\u043f\u043a\u043e\u0439? \u0421\u043e\u0445\u0440\u0430\u043d\u0438\u0442\u0435 \u043d\u0430\u0437\u0432\u0430\u043d\u0438\u0435 \u043f\u0440\u043e\u0434\u0443\u043a\u0442\u0430 \u0441 \u0441\u0430\u043c\u043e\u0439 \u0431\u043e\u043b\u044c\u0448\u043e\u0439 \u043e\u0442\u0440\u0438\u0446\u0430\u0442\u0435\u043b\u044c\u043d\u043e\u0439 \u043a\u043e\u0440\u0440\u0435\u043b\u044f\u0446\u0438\u0435\u0439 \u0432 \u043f\u0435\u0440\u0435\u043c\u0435\u043d\u043d\u0443\u044e `bottom_1`."
      ]
    },
    {
      "cell_type": "code",
      "metadata": {
        "jukit_cell_id": "eQPZBsTJbm"
      },
      "source": [
        "### \u2570( \u0361\u00b0 \u035c\u0296 \u0361\u00b0 )\u3064\u25ac\u25ac\u03b9\u2550\u2550\u2550\u2550\u2550\u2550\u2550  bzzzzzzzzzz\n",
        "# will the code be with you\n",
        "\n",
        "bottom_1 = sales_correlation['domestic eggs'].nsmallest(1).index[0]"
      ],
      "outputs": [],
      "execution_count": null
    },
    {
      "cell_type": "code",
      "metadata": {
        "jukit_cell_id": "KYCkCa5mBj"
      },
      "source": [
        "# \u043f\u0440\u043e\u0432\u0435\u0440\u043a\u0430, \u0447\u0442\u043e \u0437\u0430\u0434\u0430\u043d\u0438\u0435 \u0440\u0435\u0448\u0435\u043d\u043e \u043a\u043e\u0440\u0440\u0435\u043a\u0442\u043d\u043e\n",
        "assert len(bottom_1) == 8\n",
        "assert len(top_1) == 12"
      ],
      "outputs": [],
      "execution_count": null
    },
    {
      "cell_type": "markdown",
      "metadata": {
        "jukit_cell_id": "izNukSwgIO"
      },
      "source": [
        "\u041d\u0430\u043f\u0438\u0448\u0438\u0442\u0435 \u043a\u043e\u0434, \u043a\u043e\u0442\u043e\u0440\u044b\u0439 \u0432\u044b\u0432\u043e\u0434\u0438\u0442 \u0441\u0430\u043c\u044b\u0435 \u043a\u043e\u0440\u0440\u0435\u043b\u0438\u0440\u0443\u0435\u043c\u044b\u0435 \u0442\u043e\u0432\u0430\u0440\u044b \u0434\u043b\u044f \u0441\u043b\u0443\u0447\u0430\u0439\u043d\u043e\u0433\u043e \u043f\u0440\u043e\u0434\u0443\u043a\u0442\u0430 \u0438\u0437 \u0441\u043f\u0438\u0441\u043a\u0430 `unique_products`."
      ]
    },
    {
      "cell_type": "code",
      "metadata": {
        "jukit_cell_id": "1O4yJNjtsQ"
      },
      "source": [
        "### \u2570( \u0361\u00b0 \u035c\u0296 \u0361\u00b0 )\u3064\u25ac\u25ac\u03b9\u2550\u2550\u2550\u2550\u2550\u2550\u2550  bzzzzzzzzzz\n",
        "# will the code be with you\n",
        "\n",
        "unique_products = df['product'].unique()\n",
        "random_products = sales_correlation['soups'].nlargest(3)[1:3].keys()\n",
        "random_product = np.random.choice(random_products)\n",
        "\n",
        "rp_corr = sales_correlation[random_product].nlargest(11)[1:]\n",
        "rp_corr"
      ],
      "outputs": [
        {
          "output_type": "stream",
          "name": "stdout",
          "text": "\n"
        },
        {
          "output_type": "execute_result",
          "execution_count": 3,
          "data": {
            "text/plain": "product\nsoups               0.143465\nmargarine           0.039048\nfrankfurter         0.035177\nbottled water       0.024923\nsoda                0.015311\nother vegetables    0.011452\nkitchen utensil    -0.000257\nbaby cosmetics     -0.000445\nbags               -0.000513\nmake up remover    -0.000574\nName: preservation products, dtype: float64"
          },
          "metadata": {}
        }
      ],
      "execution_count": 3
    },
    {
      "cell_type": "markdown",
      "metadata": {
        "jukit_cell_id": "wELPeRjZyn"
      },
      "source": [
        "__\u0433)__ \u041a\u0430\u043a\u0438\u0435 \u0434\u0432\u0430 \u043f\u0440\u043e\u0434\u0443\u043a\u0442\u0430 \u043a\u043e\u0440\u0440\u0435\u043b\u0438\u0440\u0443\u044e\u0442 \u0441\u0438\u043b\u044c\u043d\u0435\u0435 \u0432\u0441\u0435\u0433\u043e? \u041f\u043e\u043b\u043e\u0436\u0438\u0442\u0435 \u0438\u0445 \u043d\u0430\u0437\u0432\u0430\u043d\u0438\u0435 \u0432 \u043b\u0438\u0441\u0442 `answer`"
      ]
    },
    {
      "cell_type": "code",
      "metadata": {
        "jukit_cell_id": "8uHUKEHtLL"
      },
      "source": [
        "### \u2570( \u0361\u00b0 \u035c\u0296 \u0361\u00b0 )\u3064\u25ac\u25ac\u03b9\u2550\u2550\u2550\u2550\u2550\u2550\u2550  bzzzzzzzzzz\n",
        "# will the code be with you\n",
        "\n",
        "answer = rp_corr.nlargest(2) "
      ],
      "outputs": [],
      "execution_count": null
    },
    {
      "cell_type": "code",
      "metadata": {
        "jukit_cell_id": "zm75kXNQOV"
      },
      "source": [
        "# \u043f\u0440\u043e\u0432\u0435\u0440\u043a\u0430, \u0447\u0442\u043e \u0437\u0430\u0434\u0430\u043d\u0438\u0435 \u0440\u0435\u0448\u0435\u043d\u043e \u043a\u043e\u0440\u0440\u0435\u043a\u0442\u043d\u043e\n",
        "assert 'soups' in answer"
      ],
      "outputs": [],
      "execution_count": null
    },
    {
      "cell_type": "markdown",
      "metadata": {
        "jukit_cell_id": "O7TEMXiwlw"
      },
      "source": [
        "\u041a\u043e\u043d\u0435\u0447\u043d\u043e \u0436\u0435, \u043a\u043e\u0440\u0440\u0435\u043b\u044f\u0446\u0438\u044f \u2014 \u044d\u0442\u043e [\u043d\u0435 \u0435\u0434\u0438\u043d\u0441\u0442\u0432\u0435\u043d\u043d\u044b\u0439 \u0441\u043f\u043e\u0441\u043e\u0431 \u0438\u0441\u043a\u0430\u0442\u044c](https://habr.com/ru/company/ods/blog/353502/) \u043c\u0435\u0436\u0434\u0443 \u043f\u043e\u043a\u0443\u043f\u043a\u0430\u043c\u0438 \u0430\u0441\u0441\u043e\u0446\u0438\u0430\u0442\u0438\u0432\u043d\u044b\u0435 \u043f\u0440\u0430\u0432\u0438\u043b\u0430."
      ]
    },
    {
      "cell_type": "markdown",
      "metadata": {
        "jukit_cell_id": "HmJkoONyV7"
      },
      "source": [
        "## 2. \u0417\u0430\u0432\u0438\u0441\u0438\u043c\u043e\u0441\u0442\u044c. \n",
        "\n",
        "\u0412 \u043b\u0435\u043a\u0446\u0438\u0438 \u043c\u044b \u0441 \u0432\u0430\u043c\u0438 \u0441\u043a\u0430\u0437\u0430\u043b\u0438, \u0447\u0442\u043e \u0441\u043e\u0431\u044b\u0442\u0438\u044f $A$ \u0438 $B$ \u043d\u0430\u0437\u044b\u0432\u0430\u044e\u0442\u0441\u044f \u043d\u0435\u0437\u0430\u0432\u0438\u0441\u0438\u043c\u044b\u043c\u0438, \u0435\u0441\u043b\u0438 $P(AB) = P(A)\\cdot P(B)$. \u041e\u0442\u0442\u0430\u043b\u043a\u0438\u0432\u0430\u044f\u0441\u044c \u043e\u0442 \u044d\u0442\u043e\u0433\u043e \u043e\u043f\u0440\u0435\u0434\u0435\u043b\u0435\u043d\u0438\u044f, \u043c\u043e\u0436\u043d\u043e \u0432\u0432\u0435\u0441\u0442\u0438 \u0434\u0440\u0443\u0433\u0443\u044e \u0445\u0430\u0440\u0430\u043a\u0442\u0435\u0440\u0438\u0441\u0442\u0438\u043a\u0443, \u043a\u043e\u0442\u043e\u0440\u0430\u044f \u043f\u043e\u043a\u0430\u0437\u044b\u0432\u0430\u0435\u0442, \u043d\u0430\u0441\u043a\u043e\u043b\u044c\u043a\u043e \u043f\u0440\u043e\u0434\u0443\u043a\u0442\u044b \u0437\u0430\u0432\u0438\u0441\u044f\u0442 \u0434\u0440\u0443\u0433 \u043e\u0442 \u0434\u0440\u0443\u0433\u0430, \u0430 \u0438\u043c\u0435\u043d\u043d\u043e __\u043f\u043e\u0434\u0434\u0435\u0440\u0436\u043a\u0443 (lift).__ \n",
        "\n",
        "$$\n",
        "lift = \\frac{P(AB)}{P(A)\\cdot P(B)}\n",
        "$$"
      ]
    },
    {
      "cell_type": "markdown",
      "metadata": {
        "jukit_cell_id": "9ZLbQj7CeY"
      },
      "source": [
        "\u042d\u0442\u0430 \u043c\u0435\u0442\u0440\u0438\u043a\u0430 \u043e\u043f\u0438\u0441\u044b\u0432\u0430\u0435\u0442 \u043e\u0442\u043d\u043e\u0448\u0435\u043d\u0438\u0435 \u0437\u0430\u0432\u0438\u0441\u0438\u043c\u043e\u0441\u0442\u0438 \u0442\u043e\u0432\u0430\u0440\u043e\u0432 \u043a \u0438\u0445 \u043d\u0435\u0437\u0430\u0432\u0438\u0441\u0438\u043c\u043e\u0441\u0442\u0438. \u0415\u0441\u043b\u0438 \u043e\u043a\u0430\u0437\u0430\u043b\u043e\u0441\u044c, \u0447\u0442\u043e `lift = 1`, \u044d\u0442\u043e \u043e\u0437\u043d\u0430\u0447\u0430\u0435\u0442, \u0447\u0442\u043e \u043f\u043e\u043a\u0443\u043f\u043a\u0430 \u0442\u043e\u0432\u0430\u0440\u0430 $A$ \u043d\u0435 \u0437\u0430\u0432\u0438\u0441\u0438\u0442 \u043e\u0442 \u043f\u043e\u043a\u0443\u043f\u043a\u0438 \u0442\u043e\u0432\u0430\u0440\u0430 $B$. \u0415\u0441\u043b\u0438 `lift > 1`, \u0442\u043e \u044d\u0442\u043e \u043e\u0437\u043d\u0430\u0447\u0430\u0435\u0442, \u0447\u0442\u043e \u0432\u0435\u0440\u043e\u044f\u0442\u043d\u043e\u0441\u0442\u044c \u0432\u0441\u0442\u0440\u0435\u0442\u0438\u0442\u044c \u043e\u0431\u0430 \u0442\u043e\u0432\u0430\u0440\u0430 \u0432 \u0447\u0435\u043a\u0435, $P(AB)$ \u0432\u044b\u0441\u043e\u043a\u0430\u044f, \u0442\u043e \u0435\u0441\u0442\u044c \u0442\u043e\u0432\u0430\u0440\u044b \u043f\u043e\u043a\u0443\u043f\u0430\u044e\u0442 \u0432\u043c\u0435\u0441\u0442\u0435. \u0415\u0441\u043b\u0438 `lift < 1`, \u044d\u0442\u043e \u043e\u0437\u043d\u0430\u0447\u0430\u0435\u0442, \u0447\u0442\u043e \u0442\u043e\u0432\u0430\u0440\u044b, \u043d\u0430\u043e\u0431\u043e\u0440\u043e\u0442, \u043e\u0447\u0435\u043d\u044c \u0447\u0430\u0441\u0442\u043e \u043f\u043e\u043a\u0443\u043f\u0430\u044e\u0442 \u043f\u043e-\u043e\u0442\u0434\u0435\u043b\u044c\u043d\u043e\u0441\u0442\u0438. "
      ]
    },
    {
      "cell_type": "markdown",
      "metadata": {
        "jukit_cell_id": "Ej42jGTB5R"
      },
      "source": [
        "__\u0434)__ \u041f\u043e\u0441\u0447\u0438\u0442\u0430\u0439\u0442\u0435 \u0437\u043d\u0430\u0447\u0435\u043d\u0438\u0435 \u043d\u0430\u0448\u0435\u0439 \u043c\u0435\u0442\u0440\u0438\u043a\u0438 \u0434\u043b\u044f \u044f\u0438\u0446 \u0438 \u043c\u043e\u043b\u043e\u043a\u0430 (`'whole milk', 'domestic eggs'`). \u0417\u0430\u043f\u0438\u0448\u0438\u0442\u0435 \u043f\u043e\u043b\u0443\u0447\u0438\u0432\u0448\u0438\u0435\u0441\u044f \u0437\u043d\u0430\u0447\u0435\u043d\u0438\u0435 \u043c\u0435\u0442\u0440\u0438\u043a\u0438 \u0432 \u043f\u0435\u0440\u0435\u043c\u0435\u043d\u043d\u0443\u044e `answer`."
      ]
    },
    {
      "cell_type": "code",
      "metadata": {
        "jukit_cell_id": "j7UwpUI2je"
      },
      "source": [
        "### \u2570( \u0361\u00b0 \u035c\u0296 \u0361\u00b0 )\u3064\u25ac\u25ac\u03b9\u2550\u2550\u2550\u2550\u2550\u2550\u2550  bzzzzzzzzzz\n",
        "# will the code be with you\n",
        "\n",
        "sales_pa = (sparse_sales['whole milk'] != 0).mean()\n",
        "sales_pb = (sparse_sales['domestic eggs'] != 0).mean()\n",
        "sales_pab = ((sparse_sales['whole milk'] != 0) & (sparse_sales['domestic eggs'] != 0)).mean()\n",
        "\n",
        "answer = sales_pab / (sales_pa * sales_pb)"
      ],
      "outputs": [],
      "execution_count": null
    },
    {
      "cell_type": "code",
      "metadata": {
        "jukit_cell_id": "dzxDmCWbz4"
      },
      "source": [
        "# \u043f\u0440\u043e\u0432\u0435\u0440\u043a\u0430, \u0447\u0442\u043e \u0437\u0430\u0434\u0430\u043d\u0438\u0435 \u0440\u0435\u0448\u0435\u043d\u043e \u043a\u043e\u0440\u0440\u0435\u043a\u0442\u043d\u043e\n",
        "assert answer < 3\n",
        "assert answer > 1"
      ],
      "outputs": [],
      "execution_count": null
    },
    {
      "cell_type": "markdown",
      "metadata": {
        "jukit_cell_id": "1jqXvTlFO0"
      },
      "source": [
        "__\u0435)__ \u041f\u043e\u0441\u0447\u0438\u0442\u0430\u0439\u0442\u0435 \u0437\u043d\u0430\u0447\u0435\u043d\u0438\u0435 \u043c\u0435\u0442\u0440\u0438\u043a\u0438 \u0434\u043b\u044f \u0432\u0441\u0435\u0445 \u043f\u0430\u0440 \u043f\u0440\u043e\u0434\u0443\u043a\u0442\u043e\u0432 \u0438\u0437 \u0434\u0430\u0442\u0430\u0441\u0435\u0442\u0430. \u0421\u043e\u0445\u0440\u0430\u043d\u0438\u0442\u0435 \u0437\u043d\u0430\u0447\u0435\u043d\u0438\u044f \u0432 \u0441\u043b\u043e\u0432\u0430\u0440\u0438\u043a `dict`. \u0412 \u043a\u0430\u0447\u0435\u0441\u0442\u0432\u0435 \u043a\u043b\u044e\u0447\u0430 \u0438\u0441\u043f\u043e\u043b\u044c\u0437\u0443\u0435\u0442\u0435 \u043a\u043e\u0440\u0442\u0435\u0436 \u0438\u0437 \u043f\u0430\u0440\u044b \u043f\u0440\u043e\u0434\u0443\u043a\u0442\u043e\u0432. \u0427\u0442\u043e\u0431\u044b \u0443\u0434\u043e\u0431\u043d\u0435\u0435 \u0431\u044b\u043b\u043e \u043f\u0435\u0440\u0435\u0431\u0440\u0430\u0442\u044c \u0432\u0441\u0435 \u0441\u043e\u0447\u0435\u0442\u0430\u043d\u0438\u044f, \u0438\u0441\u043f\u043e\u043b\u044c\u0437\u0443\u0439\u0442\u0435 `combinations` \u0438\u0437 \u043c\u043e\u0434\u0443\u043b\u044f `itertools`.\n",
        "\n",
        "\u0427\u0442\u043e\u0431\u044b \u043f\u0440\u0438 \u043f\u043e\u0434\u0441\u0447\u0451\u0442\u0430\u0445 \u043d\u0435 \u0432\u043e\u0437\u043d\u0438\u043a\u0430\u043b\u043e \u0434\u0435\u043b\u0435\u043d\u0438\u044f \u043d\u0430 \u043d\u043e\u043b\u044c, \u0434\u043e\u0431\u0430\u0432\u044c\u0442\u0435 \u043a \u0437\u043d\u0430\u043c\u0435\u043d\u0430\u0442\u0435\u043b\u044e \u043c\u0430\u043b\u0435\u043d\u044c\u043a\u043e\u0435 \u0447\u0438\u0441\u043b\u043e, \u043d\u0430\u043f\u0440\u0438\u043c\u0435\u0440 `1e-10`."
      ]
    },
    {
      "cell_type": "code",
      "metadata": {
        "jukit_cell_id": "zpH3ncPVMh"
      },
      "source": [
        "### \u2570( \u0361\u00b0 \u035c\u0296 \u0361\u00b0 )\u3064\u25ac\u25ac\u03b9\u2550\u2550\u2550\u2550\u2550\u2550\u2550  bzzzzzzzzzz\n",
        "# will the code be with you\n",
        "\n",
        "def lift(a, b):\n",
        "    pa = (sparse_sales[a] != 0).mean()\n",
        "    pb = (sparse_sales[b] != 0).mean()\n",
        "    pab = ((sparse_sales[a] != 0) & (sparse_sales[b] != 0)).mean()\n",
        "\n",
        "    return pab / (pa * pb)\n",
        "\n",
        "unvisited_products = list(unique_products)\n",
        "food_lift = {}\n",
        "\n",
        "while len(unvisited_products):\n",
        "    product = unvisited_products[0]\n",
        "    for i in range(1, len(unvisited_products)):\n",
        "        subproduct = unvisited_products[i]\n",
        "        food_lift[(product, subproduct)] = lift(product, subproduct)\n",
        "    unvisited_products.pop(0)"
      ],
      "outputs": [],
      "execution_count": null
    },
    {
      "cell_type": "code",
      "metadata": {
        "jukit_cell_id": "ve7rJ3WTIz"
      },
      "source": [
        "import itertools as it\n",
        "comb = list(it.combinations(unique_products, 2))"
      ],
      "outputs": [],
      "execution_count": null
    },
    {
      "cell_type": "code",
      "metadata": {
        "jukit_cell_id": "FX1H9hscyc"
      },
      "source": [
        "test = []\n",
        "for i in range(len(comb)):\n",
        "    t = len(sparse_sales[(sparse_sales[comb[i][0]]==True)&(sparse_sales[comb[i][1]]==True)])\n",
        "    if (t == 0) and food_lift[comb[i]] > 0:\n",
        "        print(comb[i])\n",
        "        break\n",
        "    if t != 0:\n",
        "        test.append(comb[i])"
      ],
      "outputs": [
        {
          "output_type": "stream",
          "name": "stdout",
          "text": "('whole milk', 'cream')\n"
        }
      ],
      "execution_count": 4
    },
    {
      "cell_type": "code",
      "metadata": {
        "jukit_cell_id": "sSOIZtTolZ"
      },
      "source": [
        "comb[i]"
      ],
      "outputs": [
        {
          "output_type": "stream",
          "name": "stdout",
          "text": "\n"
        },
        {
          "output_type": "execute_result",
          "execution_count": 5,
          "data": {
            "text/plain": "('whole milk', 'cream')"
          },
          "metadata": {}
        }
      ],
      "execution_count": 5
    },
    {
      "cell_type": "code",
      "metadata": {
        "jukit_cell_id": "cAzFq3HVuu"
      },
      "source": [
        "sparse_sales[(sparse_sales[comb[i][0]]==True)&(sparse_sales[comb[i][1]]==True)]"
      ],
      "outputs": [
        {
          "output_type": "stream",
          "name": "stdout",
          "text": "\n"
        },
        {
          "output_type": "execute_result",
          "execution_count": 6,
          "data": {
            "text/plain": "Empty DataFrame\nColumns: [Instant food products, UHT-milk, abrasive cleaner, artif. sweetener, baby cosmetics, bags, baking powder, bathroom cleaner, beef, berries, beverages, bottled beer, bottled water, brandy, brown bread, butter, butter milk, cake bar, candles, candy, canned beer, canned fish, canned fruit, canned vegetables, cat food, cereals, chewing gum, chicken, chocolate, chocolate marshmallow, citrus fruit, cleaner, cling film/bags, cocoa drinks, coffee, condensed milk, cooking chocolate, cookware, cream, cream cheese , curd, curd cheese, decalcifier, dental care, dessert, detergent, dish cleaner, dishes, dog food, domestic eggs, female sanitary products, finished products, fish, flour, flower (seeds), flower soil/fertilizer, frankfurter, frozen chicken, frozen dessert, frozen fish, frozen fruits, frozen meals, frozen potato products, frozen vegetables, fruit/vegetable juice, grapes, hair spray, ham, hamburger meat, hard cheese, herbs, honey, house keeping products, hygiene articles, ice cream, instant coffee, jam, ketchup, kitchen towels, kitchen utensil, light bulbs, liqueur, liquor, liquor (appetizer), liver loaf, long life bakery product, make up remover, male cosmetics, margarine, mayonnaise, meat, meat spreads, misc. beverages, mustard, napkins, newspapers, nut snack, nuts/prunes, oil, onions, ...]\nIndex: []\n\n[0 rows x 167 columns]"
          },
          "metadata": {}
        }
      ],
      "execution_count": 6
    },
    {
      "cell_type": "code",
      "metadata": {
        "jukit_cell_id": "YDcoL4Z8TV"
      },
      "source": [
        "food_lift[('whole milk', 'cream')]"
      ],
      "outputs": [
        {
          "output_type": "stream",
          "name": "stdout",
          "text": "\n"
        },
        {
          "output_type": "execute_result",
          "execution_count": 7,
          "data": {
            "text/plain": "0.5456326987681971"
          },
          "metadata": {}
        }
      ],
      "execution_count": 7
    },
    {
      "cell_type": "code",
      "metadata": {
        "jukit_cell_id": "gsjCOzLD6A"
      },
      "source": [
        "(sparse_sales [['whole milk', 'cream']] >= 1).all(axis=1).sum()"
      ],
      "outputs": [
        {
          "output_type": "stream",
          "name": "stdout",
          "text": "\n"
        },
        {
          "output_type": "execute_result",
          "execution_count": 8,
          "data": {
            "text/plain": "3"
          },
          "metadata": {}
        }
      ],
      "execution_count": 8
    },
    {
      "cell_type": "code",
      "metadata": {
        "jukit_cell_id": "RYPKvcG9Kl"
      },
      "source": [
        "ab = (sparse_sales [['whole milk', 'cream']] >= 1).all(axis=1).mean()\n",
        "a = (sparse_sales ['whole milk'] >= 1).mean()\n",
        "b = (sparse_sales ['cream'] >= 1).mean()\n",
        "answer = ab/(a*b)\n",
        "answer"
      ],
      "outputs": [
        {
          "output_type": "stream",
          "name": "stdout",
          "text": "\n"
        },
        {
          "output_type": "execute_result",
          "execution_count": 9,
          "data": {
            "text/plain": "0.5456326987681971"
          },
          "metadata": {}
        }
      ],
      "execution_count": 9
    },
    {
      "cell_type": "code",
      "metadata": {
        "jukit_cell_id": "tO5js46zv4"
      },
      "source": [
        "len(set(test))"
      ],
      "outputs": [
        {
          "output_type": "stream",
          "name": "stdout",
          "text": "\n"
        },
        {
          "output_type": "execute_result",
          "execution_count": 10,
          "data": {
            "text/plain": "303"
          },
          "metadata": {}
        }
      ],
      "execution_count": 10
    },
    {
      "cell_type": "markdown",
      "metadata": {
        "jukit_cell_id": "fhfxGD9D7x"
      },
      "source": [
        "\u0421\u043a\u043e\u043b\u044c\u043a\u043e \u043f\u0430\u0440 \u043f\u0440\u043e\u0434\u0443\u043a\u0442\u043e\u0432 \u043f\u043e\u043a\u0443\u043f\u0430\u043b\u0438 \u0432\u043c\u0435\u0441\u0442\u0435 \u0445\u043e\u0442\u044f \u0431\u044b \u0440\u0430\u0437? \u0417\u0430\u043f\u0438\u0448\u0438\u0442\u0435 \u043e\u0442\u0432\u0435\u0442 \u0432 \u043f\u0435\u0440\u0435\u043c\u0435\u043d\u043d\u0443\u044e `answer`."
      ]
    },
    {
      "cell_type": "code",
      "metadata": {
        "jukit_cell_id": "zE3xjfY127"
      },
      "source": [
        "### \u2570( \u0361\u00b0 \u035c\u0296 \u0361\u00b0 )\u3064\u25ac\u25ac\u03b9\u2550\u2550\u2550\u2550\u2550\u2550\u2550  bzzzzzzzzzz\n",
        "# will the code be with you\n",
        "\n",
        "answer = 0\n",
        "for _, value in food_lift.items():\n",
        "    if value: answer += 1"
      ],
      "outputs": [],
      "execution_count": null
    },
    {
      "cell_type": "markdown",
      "metadata": {
        "jukit_cell_id": "HOpg5pxpDx"
      },
      "source": [
        "\u0414\u043b\u044f \u043a\u0430\u043a\u043e\u0439 \u043f\u0430\u0440\u044b \u043f\u0440\u043e\u0434\u0443\u043a\u0442\u043e\u0432 \u043c\u0435\u0442\u0440\u0438\u043a\u0430 $lift$ \u043e\u043a\u0430\u0437\u0430\u043b\u0430\u0441\u044c \u0441\u0430\u043c\u043e\u0439 \u0431\u043e\u043b\u044c\u0448\u043e\u0439? "
      ]
    },
    {
      "cell_type": "code",
      "metadata": {
        "jukit_cell_id": "ATN13FKiXz"
      },
      "source": [
        "### \u2570( \u0361\u00b0 \u035c\u0296 \u0361\u00b0 )\u3064\u25ac\u25ac\u03b9\u2550\u2550\u2550\u2550\u2550\u2550\u2550  bzzzzzzzzzz\n",
        "# will the code be with you\n",
        "\n",
        "food_lift_largest = max(food_lift, key=food_lift.get)\n",
        "food_lift_largest\n",
        "\n",
        "# your code here"
      ],
      "outputs": [
        {
          "output_type": "stream",
          "name": "stdout",
          "text": "\n"
        },
        {
          "output_type": "execute_result",
          "execution_count": 11,
          "data": {
            "text/plain": "('soups', 'preservation products')"
          },
          "metadata": {}
        }
      ],
      "execution_count": 11
    },
    {
      "cell_type": "markdown",
      "metadata": {
        "jukit_cell_id": "RYbq6Sf3PA"
      },
      "source": [
        "\u0421\u043a\u043e\u043b\u044c\u043a\u043e \u0440\u0430\u0437 \u044d\u0442\u0438 \u043f\u0440\u043e\u0434\u0443\u043a\u0442\u044b \u0432\u0441\u0442\u0440\u0435\u0442\u0438\u043b\u0438\u0441\u044c \u0432 \u0432\u044b\u0431\u043e\u0440\u043a\u0435? \u041a\u0430\u043a \u0434\u0443\u043c\u0430\u0435\u0442\u0435 \u0430\u0434\u0435\u0432\u0430\u0442\u043d\u043e \u043b\u0438 \u0434\u0435\u043b\u0430\u0442\u044c \u0432\u044b\u0432\u043e\u0434\u044b \u043f\u043e \u0442\u0430\u043a\u043e\u043c\u0443 \u043e\u0431\u044a\u0451\u043c\u0443 \u0434\u0430\u043d\u043d\u044b\u0445? "
      ]
    },
    {
      "cell_type": "code",
      "metadata": {
        "jukit_cell_id": "CNmGN4AdtI"
      },
      "source": [
        "### \u2570( \u0361\u00b0 \u035c\u0296 \u0361\u00b0 )\u3064\u25ac\u25ac\u03b9\u2550\u2550\u2550\u2550\u2550\u2550\u2550  bzzzzzzzzzz\n",
        "# will the code be with you\n",
        "\n",
        "print(food_lift_largest[0], ':', sparse_sales[food_lift_largest[0]].sum())\n",
        "print(food_lift_largest[1], ':', sparse_sales[food_lift_largest[1]].sum())"
      ],
      "outputs": [
        {
          "output_type": "stream",
          "name": "stdout",
          "text": "soups : 48\npreservation products : 1\n"
        }
      ],
      "execution_count": 12
    },
    {
      "cell_type": "markdown",
      "metadata": {
        "jukit_cell_id": "V7ztHGm6pW"
      },
      "source": [
        "\u0414\u043b\u044f \u043a\u0430\u043a\u043e\u0439 \u043f\u0430\u0440\u044b \u043f\u0440\u043e\u0434\u0443\u043a\u0442\u043e\u0432 \u043c\u0435\u0442\u0440\u0438\u043a\u0430 \u043e\u043a\u0430\u0437\u044b\u0432\u0430\u0435\u0442\u0441\u044f \u0441\u0430\u043c\u043e\u0439 \u043c\u0430\u043b\u0435\u043d\u044c\u043a\u043e\u0439? "
      ]
    },
    {
      "cell_type": "code",
      "metadata": {
        "jukit_cell_id": "mHj1fVCQzN"
      },
      "source": [
        "### \u2570( \u0361\u00b0 \u035c\u0296 \u0361\u00b0 )\u3064\u25ac\u25ac\u03b9\u2550\u2550\u2550\u2550\u2550\u2550\u2550  bzzzzzzzzzz\n",
        "# will the code be with you\n",
        "\n",
        "food_lift_smallest = min(food_lift, key=food_lift.get)\n",
        "food_lift_smallest\n",
        "\n",
        "# your code here"
      ],
      "outputs": [
        {
          "output_type": "stream",
          "name": "stdout",
          "text": "\n"
        },
        {
          "output_type": "execute_result",
          "execution_count": 13,
          "data": {
            "text/plain": "('tropical fruit', 'hair spray')"
          },
          "metadata": {}
        }
      ],
      "execution_count": 13
    },
    {
      "cell_type": "code",
      "metadata": {
        "jukit_cell_id": "vxyjH1mpaV"
      },
      "source": [
        "# \u043f\u0440\u043e\u0432\u0435\u0440\u043a\u0430, \u0447\u0442\u043e \u0437\u0430\u0434\u0430\u043d\u0438\u0435 \u0440\u0435\u0448\u0435\u043d\u043e \u043a\u043e\u0440\u0440\u0435\u043a\u0442\u043d\u043e\n",
        "\n",
        "assert answer < 10000\n",
        "assert answer > 9000"
      ],
      "outputs": [],
      "execution_count": null
    },
    {
      "cell_type": "markdown",
      "metadata": {
        "jukit_cell_id": "zafdoGBafM"
      },
      "source": [
        "## 3. \u041d\u0435\u043e\u0446\u0435\u043d\u0438\u0432\u0430\u0435\u043c\u044b\u0435 \u0437\u0430\u0434\u0430\u043d\u0438\u044f\n",
        "\n",
        "\u0412\u044b\u0448\u0435 \u043c\u044b \u0443\u0432\u0438\u0434\u0435\u043b\u0438, \u0447\u0442\u043e \u043d\u0435\u043a\u043e\u0442\u043e\u0440\u044b\u0435 \u043f\u0440\u043e\u0434\u0443\u043a\u0442\u044b \u0432\u0441\u0442\u0440\u0435\u0447\u0430\u044e\u0442\u0441\u044f \u0432 \u0432\u044b\u0431\u043e\u0440\u043a\u0435 \u043e\u0447\u0435\u043d\u044c \u0440\u0435\u0434\u043a\u043e. \u041f\u043e\u043d\u044f\u0442\u043d\u043e\u0435 \u0434\u0435\u043b\u043e, \u0447\u0442\u043e \u043f\u043e \u043d\u0438\u043c \u0443 \u043d\u0430\u0441 \u043d\u0435 \u043f\u043e\u043b\u0443\u0447\u0438\u0442\u0441\u044f \u043f\u043e\u0441\u0442\u0440\u043e\u0438\u0442\u044c \u0445\u043e\u0440\u043e\u0448\u0435\u0435 \u0430\u0441\u0441\u043e\u0446\u0438\u0430\u0442\u0438\u0432\u043d\u043e\u0435 \u043f\u0440\u0430\u0432\u0438\u043b\u043e. \u041f\u043e\u043f\u0440\u043e\u0431\u0443\u0439\u0442\u0435 \u043f\u043e\u0432\u0442\u043e\u0440\u0438\u0442\u044c \u0440\u0430\u0441\u0447\u0451\u0442 \u0442\u043e\u0439 \u0436\u0435 \u043c\u0435\u0442\u0440\u0438\u043a\u0438, \u043d\u043e \u0441 \u0443\u0441\u043b\u043e\u0432\u0438\u0435\u043c \u0447\u0442\u043e \u043f\u0440\u043e\u0434\u0443\u043a\u0442 \u043f\u043e\u043a\u0443\u043f\u0430\u043b\u0438 \u0431\u043e\u043b\u044c\u0448\u0435 10 \u0440\u0430\u0437. \u0418\u0437\u0443\u0447\u0438\u0442\u0435 \u0441\u0430\u043c\u044b\u0435 \u043f\u043e\u043a\u0443\u043f\u0430\u0435\u043c\u044b\u0435 \u0432\u043c\u0435\u0441\u0442\u0435 \u043f\u0440\u043e\u0434\u0443\u043a\u0442\u044b \u0438 \u0441\u0430\u043c\u044b\u0435 \u043d\u0435\u043f\u043e\u043a\u0443\u043f\u0430\u0435\u043c\u044b\u0435 \u0432\u043c\u0435\u0441\u0442\u0435 \u043f\u0440\u043e\u0434\u0443\u043a\u0442\u044b. \u041d\u0430\u0441\u043a\u043e\u043b\u044c\u043a\u043e \u0441\u0438\u043b\u044c\u043d\u043e \u0441\u043f\u0438\u0441\u043e\u043a \u043e\u0442\u043b\u0438\u0447\u0430\u0435\u0442\u0441\u044f \u043e\u0442 \u043f\u043e\u043b\u0443\u0447\u0435\u043d\u043d\u043e\u0433\u043e \u0432 \u043f\u0440\u0435\u0434\u044b\u0434\u0443\u0449\u0435\u043c \u0437\u0430\u0434\u0430\u043d\u0438\u0438? "
      ]
    },
    {
      "cell_type": "code",
      "metadata": {
        "jukit_cell_id": "pU7b8PxkA3"
      },
      "source": [
        "### \u2570( \u0361\u00b0 \u035c\u0296 \u0361\u00b0 )\u3064\u25ac\u25ac\u03b9\u2550\u2550\u2550\u2550\u2550\u2550\u2550  bzzzzzzzzzz\n",
        "# will the code be with you\n",
        "\n",
        "product_cnt = df['product'].value_counts()\n",
        "unique_products = product_cnt[product_cnt > 10].keys()\n",
        "sparse_sales = sparse_sales[unique_products]\n",
        "comb = list(it.combinations(unique_products, 2))"
      ],
      "outputs": [],
      "execution_count": null
    },
    {
      "cell_type": "code",
      "metadata": {
        "jukit_cell_id": "TxY7HzDKrA"
      },
      "source": [
        "unvisited_products = list(unique_products)\n",
        "food_lift = {}\n",
        "\n",
        "for i in range(len(comb)):\n",
        "    food_lift[(comb[i][0], comb[i][1])] = lift(comb[i][0], comb[i][1])"
      ],
      "outputs": [],
      "execution_count": null
    },
    {
      "cell_type": "code",
      "metadata": {
        "jukit_cell_id": "oMNubo1vli"
      },
      "source": [
        "import heapq\n",
        "\n",
        "top10 = heapq.nlargest(10, food_lift, key=food_lift.get)\n",
        "bottom10 = heapq.nsmallest(10, food_lift, key=food_lift.get)\n",
        "\n",
        "print(\"Top 10:\")\n",
        "for i in top10:\n",
        "    print(i, food_lift[i])\n",
        "\n",
        "print(\"Bottom 10:\")\n",
        "for i in bottom10:\n",
        "    print(i, food_lift[i])"
      ],
      "outputs": [
        {
          "output_type": "stream",
          "name": "stdout",
          "text": "Top 10:\n('ready soups', 'honey') 19.98974358974359\n('tea', 'nut snack') 19.68686868686869\n('ketchup', 'honey') 18.740384615384617\n('cooking chocolate', 'ready soups') 17.324444444444445\n('potato products', 'canned fruit') 16.874458874458874\n('tidbits', 'frozen fruits') 16.107438016528928\n('prosecco', 'honey') 15.781376518218625\n('skin care', 'honey') 14.99230769230769\n('prosecco', 'cooking chocolate') 13.677192982456141\n('flower (seeds)', 'honey') 13.425947187141217\nBottom 10:\n('bottled water', 'cream') 0.0\n('pip fruit', 'ready soups') 0.0\n('canned beer', 'frozen fruits') 0.0\n('bottled beer', 'flower soil/fertilizer') 0.0\n('bottled beer', 'cream') 0.0\n('frankfurter', 'frozen fruits') 0.0\n('brown bread', 'ready soups') 0.0\n('pork', 'kitchen towels') 0.0\n('pork', 'organic sausage') 0.0\n('pork', 'frozen fruits') 0.0\n"
        }
      ],
      "execution_count": 14
    },
    {
      "cell_type": "markdown",
      "metadata": {
        "jukit_cell_id": "zWsaHQa5Pe"
      },
      "source": [
        "\u0418\u043d\u043e\u0433\u0434\u0430 \u0432 \u0447\u0435\u043a\u0430\u0445 \u043f\u044b\u0442\u0430\u044e\u0442\u0441\u044f \u0438\u0441\u043a\u0430\u0442\u044c __\u043f\u0440\u043e\u0434\u0443\u043a\u0442\u044b-\u044f\u043a\u043e\u0440\u044f.__ \u0422\u043e \u0435\u0441\u0442\u044c \u043f\u0440\u043e\u0434\u0443\u043a\u0442\u044b, \u043a\u043e\u0442\u043e\u0440\u044b\u0435 \u044f\u0432\u043b\u044f\u044e\u0442\u0441\u044f \u043e\u0441\u043d\u043e\u0432\u043d\u044b\u043c\u0438. \u041d\u0430\u043f\u0440\u0438\u043c\u0435\u0440: \u0430\u0439\u0444\u043e\u043d - \u043e\u0441\u043d\u043e\u0432\u043d\u043e\u0439 \u043f\u0440\u043e\u0434\u0443\u043a\u0442, \u043d\u0430\u0443\u0448\u043d\u0438\u043a\u0438 \u0438 \u0447\u0435\u0445\u043e\u043b - \u0434\u043e\u043f\u043e\u043b\u043d\u0435\u043d\u0438\u044f \u043a \u043d\u0435\u043c\u0443. \u041f\u043e\u0434\u0443\u043c\u0430\u0439\u0442\u0435 \u043a\u0430\u043a \u043c\u043e\u0436\u043d\u043e \u043f\u043e\u043f\u044b\u0442\u0430\u0442\u044c\u0441\u044f \u043d\u0430\u0439\u0442\u0438 \u0442\u0430\u043a\u0438\u0435 \u043f\u0440\u043e\u0434\u0443\u043a\u0442\u044b \u043d\u0430 \u043e\u0441\u043d\u043e\u0432\u0435 \u043f\u0440\u043e\u0441\u0442\u044b\u0445 \u043c\u0435\u0442\u0440\u0438\u043a, \u043e\u0441\u043d\u043e\u0432\u0430\u043d\u043d\u044b\u0445 \u043d\u0430 \u043f\u043e\u0434\u0441\u0447\u0451\u0442\u0435 \u0443\u0441\u043b\u043e\u0432\u043d\u044b\u0445 \u0432\u0435\u0440\u043e\u044f\u0442\u043d\u043e\u0441\u0442\u0435\u0439."
      ]
    },
    {
      "cell_type": "markdown",
      "metadata": {
        "jukit_cell_id": "Vt6eSIJiBx"
      },
      "source": [
        "<center>\n",
        "<img src=\"https://pp.userapi.com/c638028/v638028181/52e5e/1X-dkzNN1hk.jpg\" width=\"400\"> \n",
        "</center>"
      ]
    },
    {
      "cell_type": "markdown",
      "metadata": {
        "jukit_cell_id": "GMZo27eNvq"
      },
      "source": [
        " "
      ]
    }
  ],
  "metadata": {
    "anaconda-cloud": {},
    "kernelspec": {
      "display_name": "python",
      "language": "python",
      "name": "python3"
    }
  },
  "nbformat": 4,
  "nbformat_minor": 4
}